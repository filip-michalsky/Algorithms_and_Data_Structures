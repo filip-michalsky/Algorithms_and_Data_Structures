{
 "cells": [
  {
   "cell_type": "markdown",
   "metadata": {},
   "source": [
    "## Modelling Lending Club Challenge"
   ]
  },
  {
   "cell_type": "markdown",
   "metadata": {},
   "source": [
    "#### Author: Filip Michalsky, October 22, 2018"
   ]
  },
  {
   "cell_type": "markdown",
   "metadata": {},
   "source": [
    "**Executive Summary**\n",
    "\n",
    "**Overview**\n",
    "\n",
    "We prepared our data set using traditional data science techniques and trained our model (Logistic Regression) to predict whether a loan would default. The definition of loan default was taken from the Challenge Part 1. We evaluated our models used Confusion Matrix and Receiver-Operating Characteristic (ROC) curve to understand the trade-off between false-positives and true positives.\n",
    "\n",
    "**Findings**\n",
    "\n",
    "The data set used was very imbalanced, with majority of loans not defaulting (~82%). Thus, the initial model was not useful for predicting which loans will default, as the precision (i.e., loans predicted NOT default will actually default) was low (only 52%) and thus not useful from the business standpoint. Interestingly, interest rate and loan amount proved to not be statistically significant in predicting whether a loan will default via a bootstrap analysis.\n",
    "\n",
    "After performing cross-validation over a space of regularization parameters and introducing class weights, we were able to improve the ROC of our model while changing false positive rate/ false negative rate ratio (FPR/FNR) and also allowed us to introduce **strategy tuning** of our machine learning model - this way, the business stakeholders can choose the trade-off between number of \"good loans\" classified as \"good\" and thus to invest (recall in this case) and precision - how many people who will default are currently predicted to default? \n",
    "\n",
    "Ultimately, this **strategy tuning** allowed us to align with a particular loan strategy - do we want to have a safe strategy, where we barely give out loans to anyone who might default BUT miss out on some of the potential revenue, or are we risk-takers who are willing to accept a certain degree of defaults while increasing revenue from 'good' loans? This also depends on the trade-off between how many loans need to perform to satisfy one default, but such analysis was not conducted due to time constraints and could be discussed with the business stakeholder in the future.\n",
    "\n",
    "For detailed analysis and graphs, please see model evaluation section in the end of this notebook."
   ]
  },
  {
   "cell_type": "code",
   "execution_count": 1,
   "metadata": {},
   "outputs": [
    {
     "data": {
      "text/html": [
       "<script>requirejs.config({paths: { 'plotly': ['https://cdn.plot.ly/plotly-latest.min']},});if(!window.Plotly) {{require(['plotly'],function(plotly) {window.Plotly=plotly;});}}</script>"
      ],
      "text/vnd.plotly.v1+html": [
       "<script>requirejs.config({paths: { 'plotly': ['https://cdn.plot.ly/plotly-latest.min']},});if(!window.Plotly) {{require(['plotly'],function(plotly) {window.Plotly=plotly;});}}</script>"
      ]
     },
     "metadata": {},
     "output_type": "display_data"
    }
   ],
   "source": [
    "# import libraries\n",
    "import numpy as np\n",
    "import pandas as pd\n",
    "import seaborn as sns\n",
    "import matplotlib.pyplot as plt\n",
    "from sklearn.cluster import KMeans\n",
    "%matplotlib inline\n",
    "\n",
    "from plotly.offline import download_plotlyjs, init_notebook_mode, plot, iplot\n",
    "init_notebook_mode(connected=True)\n",
    "import plotly.graph_objs as go"
   ]
  },
  {
   "cell_type": "markdown",
   "metadata": {},
   "source": [
    "## prepare data for modeling"
   ]
  },
  {
   "cell_type": "code",
   "execution_count": 2,
   "metadata": {},
   "outputs": [],
   "source": [
    "# Same as in part 1 of the Challenge, we will pre-process the data"
   ]
  },
  {
   "cell_type": "code",
   "execution_count": 3,
   "metadata": {},
   "outputs": [],
   "source": [
    "df_loan = pd.read_csv(\"lending-club-loan-data/loan.csv\",low_memory=False)"
   ]
  },
  {
   "cell_type": "code",
   "execution_count": 4,
   "metadata": {},
   "outputs": [],
   "source": [
    "# per instruction, only use these cols \n",
    "cols_keep = ['loan_amnt','funded_amnt','term','int_rate','grade',\\\n",
    "            'annual_inc','issue_d','dti','revol_bal','total_pymnt',\\\n",
    "            'loan_status']"
   ]
  },
  {
   "cell_type": "code",
   "execution_count": 5,
   "metadata": {},
   "outputs": [],
   "source": [
    "df_loan.columns;"
   ]
  },
  {
   "cell_type": "code",
   "execution_count": 6,
   "metadata": {},
   "outputs": [],
   "source": [
    "df_loan = df_loan.loc[:,cols_keep]"
   ]
  },
  {
   "cell_type": "code",
   "execution_count": 7,
   "metadata": {},
   "outputs": [
    {
     "data": {
      "text/plain": [
       "(887379, 11)"
      ]
     },
     "execution_count": 7,
     "metadata": {},
     "output_type": "execute_result"
    }
   ],
   "source": [
    "df_loan.shape"
   ]
  },
  {
   "cell_type": "code",
   "execution_count": 8,
   "metadata": {},
   "outputs": [],
   "source": [
    "# Method to impute missing values from continuous variables using k-means clustering\n",
    "def kmeans_missing(X, n_clusters, max_iter=10):\n",
    "\n",
    "    # Initialize missing values to their column means\n",
    "    missing = ~np.isfinite(X)\n",
    "    mu = np.nanmean(X, 0, keepdims=1)\n",
    "    X_hat = np.where(missing, mu, X)\n",
    "\n",
    "    for i in range(max_iter):\n",
    "        if i > 0:\n",
    "            cls = KMeans(n_clusters, init=prev_centroids)\n",
    "        else:\n",
    "            cls = KMeans(n_clusters, n_init=1,n_jobs=-1)\n",
    "\n",
    "        # Perform clustering on the filled-in data\n",
    "        labels = cls.fit_predict(X_hat)\n",
    "        centroids = cls.cluster_centers_\n",
    "\n",
    "        # Fill in the missing values based on their cluster centroids\n",
    "        X_hat[missing] = centroids[labels][missing]\n",
    "\n",
    "        # When the labels have stopped changing then we have converged\n",
    "        if i > 0 and np.all(labels == prev_labels):\n",
    "            break\n",
    "\n",
    "        prev_labels = labels\n",
    "        prev_centroids = cls.cluster_centers_\n",
    "\n",
    "    return X_hat"
   ]
  },
  {
   "cell_type": "code",
   "execution_count": 9,
   "metadata": {},
   "outputs": [
    {
     "name": "stderr",
     "output_type": "stream",
     "text": [
      "/Users/filipmichalsky/anaconda/lib/python3.6/site-packages/sklearn/cluster/k_means_.py:968: RuntimeWarning:\n",
      "\n",
      "Explicit initial center position passed: performing only one init in k-means instead of n_init=10\n",
      "\n"
     ]
    }
   ],
   "source": [
    "df_loan.loc[:,['annual_inc']] = kmeans_missing(df_loan.loc[:,['annual_inc']],n_clusters=10,max_iter=10) # this will only work for numerical columns!"
   ]
  },
  {
   "cell_type": "code",
   "execution_count": 10,
   "metadata": {},
   "outputs": [],
   "source": [
    "# ==================================\n",
    "# Column summaries\n",
    "# ==================================\n",
    "#data = train_df\n",
    "\n",
    "def get_meta_data(data):\n",
    "    # Define metrics to be determined for each column\n",
    "    metrics = []\n",
    "    metrics.append(data.dtypes)\n",
    "    metrics.append(data.apply(lambda x: x.nunique(), axis=0))\n",
    "    \n",
    "    metrics.append(data.apply(lambda x: x.isnull().sum(), axis=0))\n",
    "\n",
    "    metrics.append(data.apply(lambda x: (x==\" \").sum(), axis=0))\n",
    "\n",
    "    # Summarize\n",
    "    data_meta = pd.concat(metrics, axis=1)\n",
    "    data_meta.columns = ['data_type', 'count_unique', 'count_null', \n",
    "                         'count_blank']\n",
    "    # we DO NOT WANT TO COUNG BLANK AS MISSING HERE\n",
    "#     data_meta['ppn_missing'] = (data_meta['count_null'] + \n",
    "#                                 data_meta['count_missing_passive'] + \n",
    "#                                 data_meta['count_missing_confirmed'] + \n",
    "#                                 data_meta['count_blank']) / len(data)\n",
    "    data_meta['ppn_missing'] = (data_meta['count_null'] \n",
    "                                ) / len(data)\n",
    "    return data_meta"
   ]
  },
  {
   "cell_type": "code",
   "execution_count": 11,
   "metadata": {},
   "outputs": [
    {
     "data": {
      "text/html": [
       "<div>\n",
       "<style scoped>\n",
       "    .dataframe tbody tr th:only-of-type {\n",
       "        vertical-align: middle;\n",
       "    }\n",
       "\n",
       "    .dataframe tbody tr th {\n",
       "        vertical-align: top;\n",
       "    }\n",
       "\n",
       "    .dataframe thead th {\n",
       "        text-align: right;\n",
       "    }\n",
       "</style>\n",
       "<table border=\"1\" class=\"dataframe\">\n",
       "  <thead>\n",
       "    <tr style=\"text-align: right;\">\n",
       "      <th></th>\n",
       "      <th>data_type</th>\n",
       "      <th>count_unique</th>\n",
       "      <th>count_null</th>\n",
       "      <th>count_blank</th>\n",
       "      <th>ppn_missing</th>\n",
       "    </tr>\n",
       "  </thead>\n",
       "  <tbody>\n",
       "    <tr>\n",
       "      <th>loan_amnt</th>\n",
       "      <td>float64</td>\n",
       "      <td>1372</td>\n",
       "      <td>0</td>\n",
       "      <td>0</td>\n",
       "      <td>0.0</td>\n",
       "    </tr>\n",
       "    <tr>\n",
       "      <th>funded_amnt</th>\n",
       "      <td>float64</td>\n",
       "      <td>1372</td>\n",
       "      <td>0</td>\n",
       "      <td>0</td>\n",
       "      <td>0.0</td>\n",
       "    </tr>\n",
       "    <tr>\n",
       "      <th>term</th>\n",
       "      <td>object</td>\n",
       "      <td>2</td>\n",
       "      <td>0</td>\n",
       "      <td>0</td>\n",
       "      <td>0.0</td>\n",
       "    </tr>\n",
       "    <tr>\n",
       "      <th>int_rate</th>\n",
       "      <td>float64</td>\n",
       "      <td>542</td>\n",
       "      <td>0</td>\n",
       "      <td>0</td>\n",
       "      <td>0.0</td>\n",
       "    </tr>\n",
       "    <tr>\n",
       "      <th>grade</th>\n",
       "      <td>object</td>\n",
       "      <td>7</td>\n",
       "      <td>0</td>\n",
       "      <td>0</td>\n",
       "      <td>0.0</td>\n",
       "    </tr>\n",
       "    <tr>\n",
       "      <th>annual_inc</th>\n",
       "      <td>float64</td>\n",
       "      <td>49385</td>\n",
       "      <td>0</td>\n",
       "      <td>0</td>\n",
       "      <td>0.0</td>\n",
       "    </tr>\n",
       "    <tr>\n",
       "      <th>issue_d</th>\n",
       "      <td>object</td>\n",
       "      <td>103</td>\n",
       "      <td>0</td>\n",
       "      <td>0</td>\n",
       "      <td>0.0</td>\n",
       "    </tr>\n",
       "    <tr>\n",
       "      <th>dti</th>\n",
       "      <td>float64</td>\n",
       "      <td>4086</td>\n",
       "      <td>0</td>\n",
       "      <td>0</td>\n",
       "      <td>0.0</td>\n",
       "    </tr>\n",
       "    <tr>\n",
       "      <th>revol_bal</th>\n",
       "      <td>float64</td>\n",
       "      <td>73740</td>\n",
       "      <td>0</td>\n",
       "      <td>0</td>\n",
       "      <td>0.0</td>\n",
       "    </tr>\n",
       "    <tr>\n",
       "      <th>total_pymnt</th>\n",
       "      <td>float64</td>\n",
       "      <td>506726</td>\n",
       "      <td>0</td>\n",
       "      <td>0</td>\n",
       "      <td>0.0</td>\n",
       "    </tr>\n",
       "    <tr>\n",
       "      <th>loan_status</th>\n",
       "      <td>object</td>\n",
       "      <td>10</td>\n",
       "      <td>0</td>\n",
       "      <td>0</td>\n",
       "      <td>0.0</td>\n",
       "    </tr>\n",
       "  </tbody>\n",
       "</table>\n",
       "</div>"
      ],
      "text/plain": [
       "            data_type  count_unique  count_null  count_blank  ppn_missing\n",
       "loan_amnt     float64          1372           0            0          0.0\n",
       "funded_amnt   float64          1372           0            0          0.0\n",
       "term           object             2           0            0          0.0\n",
       "int_rate      float64           542           0            0          0.0\n",
       "grade          object             7           0            0          0.0\n",
       "annual_inc    float64         49385           0            0          0.0\n",
       "issue_d        object           103           0            0          0.0\n",
       "dti           float64          4086           0            0          0.0\n",
       "revol_bal     float64         73740           0            0          0.0\n",
       "total_pymnt   float64        506726           0            0          0.0\n",
       "loan_status    object            10           0            0          0.0"
      ]
     },
     "execution_count": 11,
     "metadata": {},
     "output_type": "execute_result"
    }
   ],
   "source": [
    "meta = get_meta_data(df_loan)\n",
    "meta"
   ]
  },
  {
   "cell_type": "code",
   "execution_count": 12,
   "metadata": {},
   "outputs": [],
   "source": [
    "# issue date convert to pandas daretime object\n",
    "df_loan['issue_d']=pd.to_datetime(df_loan['issue_d'])"
   ]
  },
  {
   "cell_type": "code",
   "execution_count": 13,
   "metadata": {},
   "outputs": [],
   "source": [
    "# convert to categorical where appropriate\n",
    "cols_categorical = ['term','grade','loan_status']\n",
    "for c in cols_categorical:\n",
    "    df_loan[c] = df_loan[c].astype('category')"
   ]
  },
  {
   "cell_type": "code",
   "execution_count": 14,
   "metadata": {},
   "outputs": [],
   "source": [
    "df_loan['issue_year'] = df_loan.issue_d.dt.year"
   ]
  },
  {
   "cell_type": "code",
   "execution_count": 15,
   "metadata": {},
   "outputs": [],
   "source": [
    "continuous = [col for col in df_loan.columns if df_loan[col].dtype in ['float64','int64']]"
   ]
  },
  {
   "cell_type": "code",
   "execution_count": 16,
   "metadata": {},
   "outputs": [],
   "source": [
    "continuous.remove('issue_year')"
   ]
  },
  {
   "cell_type": "code",
   "execution_count": 18,
   "metadata": {},
   "outputs": [
    {
     "data": {
      "text/plain": [
       "['loan_amnt',\n",
       " 'funded_amnt',\n",
       " 'int_rate',\n",
       " 'annual_inc',\n",
       " 'dti',\n",
       " 'revol_bal',\n",
       " 'total_pymnt']"
      ]
     },
     "execution_count": 18,
     "metadata": {},
     "output_type": "execute_result"
    }
   ],
   "source": [
    "# continuous features\n",
    "continuous"
   ]
  },
  {
   "cell_type": "code",
   "execution_count": 19,
   "metadata": {},
   "outputs": [],
   "source": [
    "categorical = df_loan.columns.difference(continuous+['issue_d'])"
   ]
  },
  {
   "cell_type": "code",
   "execution_count": 20,
   "metadata": {},
   "outputs": [],
   "source": [
    "categorical = categorical.tolist()"
   ]
  },
  {
   "cell_type": "code",
   "execution_count": 21,
   "metadata": {},
   "outputs": [
    {
     "data": {
      "text/plain": [
       "['grade', 'issue_year', 'loan_status', 'term']"
      ]
     },
     "execution_count": 21,
     "metadata": {},
     "output_type": "execute_result"
    }
   ],
   "source": [
    "# categorical features\n",
    "categorical"
   ]
  },
  {
   "cell_type": "markdown",
   "metadata": {},
   "source": [
    "## Create 'default_loan' category as per part 2)"
   ]
  },
  {
   "cell_type": "markdown",
   "metadata": {},
   "source": [
    "Here, we pre-process our data in the same way as in the first part of the Challenge"
   ]
  },
  {
   "cell_type": "code",
   "execution_count": 22,
   "metadata": {},
   "outputs": [
    {
     "data": {
      "text/plain": [
       "' 36 months'"
      ]
     },
     "execution_count": 22,
     "metadata": {},
     "output_type": "execute_result"
    }
   ],
   "source": [
    "df_loan.term.unique()[0]"
   ]
  },
  {
   "cell_type": "code",
   "execution_count": 23,
   "metadata": {},
   "outputs": [],
   "source": [
    "df_loan.term = df_loan.term.apply(lambda x: x.strip(' '))"
   ]
  },
  {
   "cell_type": "code",
   "execution_count": 24,
   "metadata": {},
   "outputs": [],
   "source": [
    "df_36 = df_loan.loc[df_loan.term=='36 months',:]"
   ]
  },
  {
   "cell_type": "code",
   "execution_count": 25,
   "metadata": {},
   "outputs": [
    {
     "data": {
      "text/html": [
       "<div>\n",
       "<style scoped>\n",
       "    .dataframe tbody tr th:only-of-type {\n",
       "        vertical-align: middle;\n",
       "    }\n",
       "\n",
       "    .dataframe tbody tr th {\n",
       "        vertical-align: top;\n",
       "    }\n",
       "\n",
       "    .dataframe thead th {\n",
       "        text-align: right;\n",
       "    }\n",
       "</style>\n",
       "<table border=\"1\" class=\"dataframe\">\n",
       "  <thead>\n",
       "    <tr style=\"text-align: right;\">\n",
       "      <th></th>\n",
       "      <th>loan_amnt</th>\n",
       "      <th>funded_amnt</th>\n",
       "      <th>term</th>\n",
       "      <th>int_rate</th>\n",
       "      <th>grade</th>\n",
       "      <th>annual_inc</th>\n",
       "      <th>issue_d</th>\n",
       "      <th>dti</th>\n",
       "      <th>revol_bal</th>\n",
       "      <th>total_pymnt</th>\n",
       "      <th>loan_status</th>\n",
       "      <th>issue_year</th>\n",
       "    </tr>\n",
       "  </thead>\n",
       "  <tbody>\n",
       "    <tr>\n",
       "      <th>0</th>\n",
       "      <td>5000.0</td>\n",
       "      <td>5000.0</td>\n",
       "      <td>36 months</td>\n",
       "      <td>10.65</td>\n",
       "      <td>B</td>\n",
       "      <td>24000.0</td>\n",
       "      <td>2011-12-01</td>\n",
       "      <td>27.65</td>\n",
       "      <td>13648.0</td>\n",
       "      <td>5861.071414</td>\n",
       "      <td>Fully Paid</td>\n",
       "      <td>2011</td>\n",
       "    </tr>\n",
       "    <tr>\n",
       "      <th>2</th>\n",
       "      <td>2400.0</td>\n",
       "      <td>2400.0</td>\n",
       "      <td>36 months</td>\n",
       "      <td>15.96</td>\n",
       "      <td>C</td>\n",
       "      <td>12252.0</td>\n",
       "      <td>2011-12-01</td>\n",
       "      <td>8.72</td>\n",
       "      <td>2956.0</td>\n",
       "      <td>3003.653644</td>\n",
       "      <td>Fully Paid</td>\n",
       "      <td>2011</td>\n",
       "    </tr>\n",
       "    <tr>\n",
       "      <th>3</th>\n",
       "      <td>10000.0</td>\n",
       "      <td>10000.0</td>\n",
       "      <td>36 months</td>\n",
       "      <td>13.49</td>\n",
       "      <td>C</td>\n",
       "      <td>49200.0</td>\n",
       "      <td>2011-12-01</td>\n",
       "      <td>20.00</td>\n",
       "      <td>5598.0</td>\n",
       "      <td>12226.302212</td>\n",
       "      <td>Fully Paid</td>\n",
       "      <td>2011</td>\n",
       "    </tr>\n",
       "    <tr>\n",
       "      <th>5</th>\n",
       "      <td>5000.0</td>\n",
       "      <td>5000.0</td>\n",
       "      <td>36 months</td>\n",
       "      <td>7.90</td>\n",
       "      <td>A</td>\n",
       "      <td>36000.0</td>\n",
       "      <td>2011-12-01</td>\n",
       "      <td>11.20</td>\n",
       "      <td>7963.0</td>\n",
       "      <td>5631.377753</td>\n",
       "      <td>Fully Paid</td>\n",
       "      <td>2011</td>\n",
       "    </tr>\n",
       "    <tr>\n",
       "      <th>7</th>\n",
       "      <td>3000.0</td>\n",
       "      <td>3000.0</td>\n",
       "      <td>36 months</td>\n",
       "      <td>18.64</td>\n",
       "      <td>E</td>\n",
       "      <td>48000.0</td>\n",
       "      <td>2011-12-01</td>\n",
       "      <td>5.35</td>\n",
       "      <td>8221.0</td>\n",
       "      <td>3938.144334</td>\n",
       "      <td>Fully Paid</td>\n",
       "      <td>2011</td>\n",
       "    </tr>\n",
       "  </tbody>\n",
       "</table>\n",
       "</div>"
      ],
      "text/plain": [
       "   loan_amnt  funded_amnt       term  int_rate grade  annual_inc    issue_d  \\\n",
       "0     5000.0       5000.0  36 months     10.65     B     24000.0 2011-12-01   \n",
       "2     2400.0       2400.0  36 months     15.96     C     12252.0 2011-12-01   \n",
       "3    10000.0      10000.0  36 months     13.49     C     49200.0 2011-12-01   \n",
       "5     5000.0       5000.0  36 months      7.90     A     36000.0 2011-12-01   \n",
       "7     3000.0       3000.0  36 months     18.64     E     48000.0 2011-12-01   \n",
       "\n",
       "     dti  revol_bal   total_pymnt loan_status  issue_year  \n",
       "0  27.65    13648.0   5861.071414  Fully Paid        2011  \n",
       "2   8.72     2956.0   3003.653644  Fully Paid        2011  \n",
       "3  20.00     5598.0  12226.302212  Fully Paid        2011  \n",
       "5  11.20     7963.0   5631.377753  Fully Paid        2011  \n",
       "7   5.35     8221.0   3938.144334  Fully Paid        2011  "
      ]
     },
     "execution_count": 25,
     "metadata": {},
     "output_type": "execute_result"
    }
   ],
   "source": [
    "df_36.head()"
   ]
  },
  {
   "cell_type": "code",
   "execution_count": 26,
   "metadata": {},
   "outputs": [
    {
     "name": "stdout",
     "output_type": "stream",
     "text": [
      "we have 621125 of 36 months term loans available for analysis.\n"
     ]
    }
   ],
   "source": [
    "print(f'we have {df_36.shape[0]} of 36 months term loans available for analysis.')"
   ]
  },
  {
   "cell_type": "markdown",
   "metadata": {},
   "source": [
    "Exclude loans with less than 36 months of data available:\n",
    "\n",
    "I look at the latest date in the dataset and assume that is the most 'current date'\n",
    "\n",
    "Then I exlude loans which were issued after (maximum_date - 36 months) to get only loans with 36 months or more worth of data"
   ]
  },
  {
   "cell_type": "code",
   "execution_count": 27,
   "metadata": {},
   "outputs": [
    {
     "name": "stdout",
     "output_type": "stream",
     "text": [
      "Exclude loans issued after 2013-02-26 00:00:00\n"
     ]
    }
   ],
   "source": [
    "cutoff_date = np.max(df_36.issue_d) - pd.Timedelta(weeks=36*4)\n",
    "print(f'Exclude loans issued after {cutoff_date}')"
   ]
  },
  {
   "cell_type": "code",
   "execution_count": 28,
   "metadata": {},
   "outputs": [],
   "source": [
    "df_36 = df_36.loc[df_36.issue_d<=cutoff_date,:]"
   ]
  },
  {
   "cell_type": "code",
   "execution_count": 29,
   "metadata": {},
   "outputs": [
    {
     "name": "stdout",
     "output_type": "stream",
     "text": [
      "Latest loan with 36 months worth of data in current dataset issued on 2013-02-01 00:00:00\n"
     ]
    }
   ],
   "source": [
    "print(f'Latest loan with 36 months worth of data in current dataset issued on {df_36.issue_d.max()}')"
   ]
  },
  {
   "cell_type": "code",
   "execution_count": 30,
   "metadata": {},
   "outputs": [],
   "source": [
    "# cast df to old namespace\n",
    "import gc\n",
    "del df_loan\n",
    "gc.collect() # clean memory (python garbage collector)\n",
    "df_loan = df_36.copy(deep=True)"
   ]
  },
  {
   "cell_type": "code",
   "execution_count": 31,
   "metadata": {},
   "outputs": [
    {
     "data": {
      "text/plain": [
       "36 months    86552\n",
       "60 months        0\n",
       "Name: term, dtype: int64"
      ]
     },
     "execution_count": 31,
     "metadata": {},
     "output_type": "execute_result"
    }
   ],
   "source": [
    "df_loan.term.value_counts()"
   ]
  },
  {
   "cell_type": "code",
   "execution_count": 32,
   "metadata": {},
   "outputs": [],
   "source": [
    "# drop term since we are only looking at 36 months loans\n",
    "df_loan = df_loan.drop('term',axis=1)"
   ]
  },
  {
   "cell_type": "code",
   "execution_count": 33,
   "metadata": {},
   "outputs": [],
   "source": [
    "## create feature indicating whether loan defaulted or not\n",
    "# convert loan status to binary good/bad loans\n",
    "\n",
    "fully_paid = [\"Fully Paid\"]\n",
    "\n",
    "df_loan['defaulted_loan'] = np.nan\n",
    "\n",
    "def loan_condition(status):\n",
    "    if status in fully_paid:\n",
    "        return 'Paid'\n",
    "    else:\n",
    "        return 'Defaulted'\n",
    "    \n",
    "    \n",
    "df_loan['defaulted_loan'] = df_loan['loan_status'].apply(loan_condition)\n",
    "\n",
    "df_loan[\"defaulted_loan_int\"] = df_loan[\"defaulted_loan\"].apply(lambda x: 0 if x== 'Paid' else 1)"
   ]
  },
  {
   "cell_type": "code",
   "execution_count": 34,
   "metadata": {},
   "outputs": [
    {
     "name": "stdout",
     "output_type": "stream",
     "text": [
      "Percentage of loans fully paid: 81.5%\n"
     ]
    }
   ],
   "source": [
    "print(f'Percentage of loans fully paid: {np.round(df_loan.loan_status[df_loan.loan_status==\"Fully Paid\"].count()/df_loan.loan_status.count(),3)*100}%')"
   ]
  },
  {
   "cell_type": "code",
   "execution_count": 35,
   "metadata": {},
   "outputs": [
    {
     "data": {
      "text/html": [
       "<div>\n",
       "<style scoped>\n",
       "    .dataframe tbody tr th:only-of-type {\n",
       "        vertical-align: middle;\n",
       "    }\n",
       "\n",
       "    .dataframe tbody tr th {\n",
       "        vertical-align: top;\n",
       "    }\n",
       "\n",
       "    .dataframe thead th {\n",
       "        text-align: right;\n",
       "    }\n",
       "</style>\n",
       "<table border=\"1\" class=\"dataframe\">\n",
       "  <thead>\n",
       "    <tr style=\"text-align: right;\">\n",
       "      <th></th>\n",
       "      <th>loan_amnt</th>\n",
       "      <th>funded_amnt</th>\n",
       "      <th>int_rate</th>\n",
       "      <th>grade</th>\n",
       "      <th>annual_inc</th>\n",
       "      <th>issue_d</th>\n",
       "      <th>dti</th>\n",
       "      <th>revol_bal</th>\n",
       "      <th>total_pymnt</th>\n",
       "      <th>loan_status</th>\n",
       "      <th>issue_year</th>\n",
       "      <th>defaulted_loan</th>\n",
       "      <th>defaulted_loan_int</th>\n",
       "    </tr>\n",
       "  </thead>\n",
       "  <tbody>\n",
       "    <tr>\n",
       "      <th>0</th>\n",
       "      <td>5000.0</td>\n",
       "      <td>5000.0</td>\n",
       "      <td>10.65</td>\n",
       "      <td>B</td>\n",
       "      <td>24000.0</td>\n",
       "      <td>2011-12-01</td>\n",
       "      <td>27.65</td>\n",
       "      <td>13648.0</td>\n",
       "      <td>5861.071414</td>\n",
       "      <td>Fully Paid</td>\n",
       "      <td>2011</td>\n",
       "      <td>Paid</td>\n",
       "      <td>0</td>\n",
       "    </tr>\n",
       "    <tr>\n",
       "      <th>2</th>\n",
       "      <td>2400.0</td>\n",
       "      <td>2400.0</td>\n",
       "      <td>15.96</td>\n",
       "      <td>C</td>\n",
       "      <td>12252.0</td>\n",
       "      <td>2011-12-01</td>\n",
       "      <td>8.72</td>\n",
       "      <td>2956.0</td>\n",
       "      <td>3003.653644</td>\n",
       "      <td>Fully Paid</td>\n",
       "      <td>2011</td>\n",
       "      <td>Paid</td>\n",
       "      <td>0</td>\n",
       "    </tr>\n",
       "    <tr>\n",
       "      <th>3</th>\n",
       "      <td>10000.0</td>\n",
       "      <td>10000.0</td>\n",
       "      <td>13.49</td>\n",
       "      <td>C</td>\n",
       "      <td>49200.0</td>\n",
       "      <td>2011-12-01</td>\n",
       "      <td>20.00</td>\n",
       "      <td>5598.0</td>\n",
       "      <td>12226.302212</td>\n",
       "      <td>Fully Paid</td>\n",
       "      <td>2011</td>\n",
       "      <td>Paid</td>\n",
       "      <td>0</td>\n",
       "    </tr>\n",
       "    <tr>\n",
       "      <th>5</th>\n",
       "      <td>5000.0</td>\n",
       "      <td>5000.0</td>\n",
       "      <td>7.90</td>\n",
       "      <td>A</td>\n",
       "      <td>36000.0</td>\n",
       "      <td>2011-12-01</td>\n",
       "      <td>11.20</td>\n",
       "      <td>7963.0</td>\n",
       "      <td>5631.377753</td>\n",
       "      <td>Fully Paid</td>\n",
       "      <td>2011</td>\n",
       "      <td>Paid</td>\n",
       "      <td>0</td>\n",
       "    </tr>\n",
       "    <tr>\n",
       "      <th>7</th>\n",
       "      <td>3000.0</td>\n",
       "      <td>3000.0</td>\n",
       "      <td>18.64</td>\n",
       "      <td>E</td>\n",
       "      <td>48000.0</td>\n",
       "      <td>2011-12-01</td>\n",
       "      <td>5.35</td>\n",
       "      <td>8221.0</td>\n",
       "      <td>3938.144334</td>\n",
       "      <td>Fully Paid</td>\n",
       "      <td>2011</td>\n",
       "      <td>Paid</td>\n",
       "      <td>0</td>\n",
       "    </tr>\n",
       "  </tbody>\n",
       "</table>\n",
       "</div>"
      ],
      "text/plain": [
       "   loan_amnt  funded_amnt  int_rate grade  annual_inc    issue_d    dti  \\\n",
       "0     5000.0       5000.0     10.65     B     24000.0 2011-12-01  27.65   \n",
       "2     2400.0       2400.0     15.96     C     12252.0 2011-12-01   8.72   \n",
       "3    10000.0      10000.0     13.49     C     49200.0 2011-12-01  20.00   \n",
       "5     5000.0       5000.0      7.90     A     36000.0 2011-12-01  11.20   \n",
       "7     3000.0       3000.0     18.64     E     48000.0 2011-12-01   5.35   \n",
       "\n",
       "   revol_bal   total_pymnt loan_status  issue_year defaulted_loan  \\\n",
       "0    13648.0   5861.071414  Fully Paid        2011           Paid   \n",
       "2     2956.0   3003.653644  Fully Paid        2011           Paid   \n",
       "3     5598.0  12226.302212  Fully Paid        2011           Paid   \n",
       "5     7963.0   5631.377753  Fully Paid        2011           Paid   \n",
       "7     8221.0   3938.144334  Fully Paid        2011           Paid   \n",
       "\n",
       "   defaulted_loan_int  \n",
       "0                   0  \n",
       "2                   0  \n",
       "3                   0  \n",
       "5                   0  \n",
       "7                   0  "
      ]
     },
     "execution_count": 35,
     "metadata": {},
     "output_type": "execute_result"
    }
   ],
   "source": [
    "df_loan.head()"
   ]
  },
  {
   "cell_type": "code",
   "execution_count": 36,
   "metadata": {},
   "outputs": [],
   "source": [
    "# look at correlations in the data set"
   ]
  },
  {
   "cell_type": "code",
   "execution_count": 37,
   "metadata": {},
   "outputs": [
    {
     "data": {
      "application/vnd.plotly.v1+json": {
       "data": [
        {
         "colorbar": {
          "tickmode": "array",
          "ticks": "outside",
          "ticktext": [
           "Negative Correlation",
           "Low Correlation",
           "Positive Correlation"
          ],
          "tickvals": [
           -0.52,
           0.2,
           0.95
          ],
          "title": "Level of Correlation",
          "titleside": "top"
         },
         "colorscale": [
          [
           0,
           "rgb(165,0,38)"
          ],
          [
           0.1111111111111111,
           "rgb(215,48,39)"
          ],
          [
           0.2222222222222222,
           "rgb(244,109,67)"
          ],
          [
           0.3333333333333333,
           "rgb(253,174,97)"
          ],
          [
           0.4444444444444444,
           "rgb(254,224,144)"
          ],
          [
           0.5555555555555556,
           "rgb(224,243,248)"
          ],
          [
           0.6666666666666666,
           "rgb(171,217,233)"
          ],
          [
           0.7777777777777778,
           "rgb(116,173,209)"
          ],
          [
           0.8888888888888888,
           "rgb(69,117,180)"
          ],
          [
           1,
           "rgb(49,54,149)"
          ]
         ],
         "type": "heatmap",
         "x": [
          "loan_amnt",
          "funded_amnt",
          "int_rate",
          "annual_inc",
          "dti",
          "revol_bal",
          "total_pymnt",
          "issue_year",
          "defaulted_loan_int"
         ],
         "y": [
          "loan_amnt",
          "funded_amnt",
          "int_rate",
          "annual_inc",
          "dti",
          "revol_bal",
          "total_pymnt",
          "issue_year",
          "defaulted_loan_int"
         ],
         "z": [
          [
           1,
           0.9964788718925972,
           0.12817097045908665,
           0.2868128432068582,
           0.056332463072979,
           0.2819049853331825,
           0.9302921069879976,
           0.1756829040406365,
           0.014823177198094
          ],
          [
           0.9964788718925972,
           1,
           0.1323680537386615,
           0.2854208948275962,
           0.058582609721734846,
           0.2799151381142229,
           0.9337717994371837,
           0.18712259762959188,
           0.014704962089314919
          ],
          [
           0.12817097045908665,
           0.1323680537386615,
           1,
           -0.023282352743653163,
           0.17077969384460367,
           0.026554061898408195,
           0.14677149895062896,
           0.12824164959372145,
           0.1764632393023287
          ],
          [
           0.2868128432068582,
           0.2854208948275962,
           -0.023282352743653163,
           1,
           -0.14418807210652396,
           0.2990804362318715,
           0.2744872905832016,
           0.014448453383727541,
           -0.02990245001499572
          ],
          [
           0.056332463072979,
           0.058582609721734846,
           0.17077969384460367,
           -0.14418807210652396,
           1,
           0.16252385341108963,
           0.056701789721726174,
           0.21272701353675713,
           0.06762852385684047
          ],
          [
           0.2819049853331825,
           0.2799151381142229,
           0.026554061898408195,
           0.2990804362318715,
           0.16252385341108963,
           1,
           0.25960345597131806,
           0.006630635725148608,
           0.05414702811939326
          ],
          [
           0.9302921069879976,
           0.9337717994371837,
           0.14677149895062896,
           0.2744872905832016,
           0.056701789721726174,
           0.25960345597131806,
           1,
           0.18487071580238,
           -0.18637418168248773
          ],
          [
           0.1756829040406365,
           0.18712259762959188,
           0.12824164959372145,
           0.014448453383727541,
           0.21272701353675713,
           0.006630635725148608,
           0.18487071580238,
           1,
           -0.019395456606176423
          ],
          [
           0.014823177198094,
           0.014704962089314919,
           0.1764632393023287,
           -0.02990245001499572,
           0.06762852385684047,
           0.05414702811939326,
           -0.18637418168248773,
           -0.019395456606176423,
           1
          ]
         ]
        }
       ],
       "layout": {
        "title": "Correlation Heatmap"
       }
      },
      "text/html": [
       "<div id=\"afcefcd5-c1b0-46a9-82f0-2485071131a3\" style=\"height: 525px; width: 100%;\" class=\"plotly-graph-div\"></div><script type=\"text/javascript\">require([\"plotly\"], function(Plotly) { window.PLOTLYENV=window.PLOTLYENV || {};window.PLOTLYENV.BASE_URL=\"https://plot.ly\";Plotly.newPlot(\"afcefcd5-c1b0-46a9-82f0-2485071131a3\", [{\"type\": \"heatmap\", \"z\": [[1.0, 0.9964788718925972, 0.12817097045908665, 0.2868128432068582, 0.056332463072979, 0.2819049853331825, 0.9302921069879976, 0.1756829040406365, 0.014823177198094], [0.9964788718925972, 1.0, 0.1323680537386615, 0.2854208948275962, 0.058582609721734846, 0.2799151381142229, 0.9337717994371837, 0.18712259762959188, 0.014704962089314919], [0.12817097045908665, 0.1323680537386615, 1.0, -0.023282352743653163, 0.17077969384460367, 0.026554061898408195, 0.14677149895062896, 0.12824164959372145, 0.1764632393023287], [0.2868128432068582, 0.2854208948275962, -0.023282352743653163, 1.0, -0.14418807210652396, 0.2990804362318715, 0.2744872905832016, 0.014448453383727541, -0.02990245001499572], [0.056332463072979, 0.058582609721734846, 0.17077969384460367, -0.14418807210652396, 1.0, 0.16252385341108963, 0.056701789721726174, 0.21272701353675713, 0.06762852385684047], [0.2819049853331825, 0.2799151381142229, 0.026554061898408195, 0.2990804362318715, 0.16252385341108963, 1.0, 0.25960345597131806, 0.006630635725148608, 0.05414702811939326], [0.9302921069879976, 0.9337717994371837, 0.14677149895062896, 0.2744872905832016, 0.056701789721726174, 0.25960345597131806, 1.0, 0.18487071580238, -0.18637418168248773], [0.1756829040406365, 0.18712259762959188, 0.12824164959372145, 0.014448453383727541, 0.21272701353675713, 0.006630635725148608, 0.18487071580238, 1.0, -0.019395456606176423], [0.014823177198094, 0.014704962089314919, 0.1764632393023287, -0.02990245001499572, 0.06762852385684047, 0.05414702811939326, -0.18637418168248773, -0.019395456606176423, 1.0]], \"x\": [\"loan_amnt\", \"funded_amnt\", \"int_rate\", \"annual_inc\", \"dti\", \"revol_bal\", \"total_pymnt\", \"issue_year\", \"defaulted_loan_int\"], \"y\": [\"loan_amnt\", \"funded_amnt\", \"int_rate\", \"annual_inc\", \"dti\", \"revol_bal\", \"total_pymnt\", \"issue_year\", \"defaulted_loan_int\"], \"colorscale\": [[0.0, \"rgb(165,0,38)\"], [0.1111111111111111, \"rgb(215,48,39)\"], [0.2222222222222222, \"rgb(244,109,67)\"], [0.3333333333333333, \"rgb(253,174,97)\"], [0.4444444444444444, \"rgb(254,224,144)\"], [0.5555555555555556, \"rgb(224,243,248)\"], [0.6666666666666666, \"rgb(171,217,233)\"], [0.7777777777777778, \"rgb(116,173,209)\"], [0.8888888888888888, \"rgb(69,117,180)\"], [1.0, \"rgb(49,54,149)\"]], \"colorbar\": {\"title\": \"Level of Correlation\", \"titleside\": \"top\", \"tickmode\": \"array\", \"tickvals\": [-0.52, 0.2, 0.95], \"ticktext\": [\"Negative Correlation\", \"Low Correlation\", \"Positive Correlation\"], \"ticks\": \"outside\"}}], {\"title\": \"Correlation Heatmap\"}, {\"showLink\": true, \"linkText\": \"Export to plot.ly\"})});</script>"
      ],
      "text/vnd.plotly.v1+html": [
       "<div id=\"afcefcd5-c1b0-46a9-82f0-2485071131a3\" style=\"height: 525px; width: 100%;\" class=\"plotly-graph-div\"></div><script type=\"text/javascript\">require([\"plotly\"], function(Plotly) { window.PLOTLYENV=window.PLOTLYENV || {};window.PLOTLYENV.BASE_URL=\"https://plot.ly\";Plotly.newPlot(\"afcefcd5-c1b0-46a9-82f0-2485071131a3\", [{\"type\": \"heatmap\", \"z\": [[1.0, 0.9964788718925972, 0.12817097045908665, 0.2868128432068582, 0.056332463072979, 0.2819049853331825, 0.9302921069879976, 0.1756829040406365, 0.014823177198094], [0.9964788718925972, 1.0, 0.1323680537386615, 0.2854208948275962, 0.058582609721734846, 0.2799151381142229, 0.9337717994371837, 0.18712259762959188, 0.014704962089314919], [0.12817097045908665, 0.1323680537386615, 1.0, -0.023282352743653163, 0.17077969384460367, 0.026554061898408195, 0.14677149895062896, 0.12824164959372145, 0.1764632393023287], [0.2868128432068582, 0.2854208948275962, -0.023282352743653163, 1.0, -0.14418807210652396, 0.2990804362318715, 0.2744872905832016, 0.014448453383727541, -0.02990245001499572], [0.056332463072979, 0.058582609721734846, 0.17077969384460367, -0.14418807210652396, 1.0, 0.16252385341108963, 0.056701789721726174, 0.21272701353675713, 0.06762852385684047], [0.2819049853331825, 0.2799151381142229, 0.026554061898408195, 0.2990804362318715, 0.16252385341108963, 1.0, 0.25960345597131806, 0.006630635725148608, 0.05414702811939326], [0.9302921069879976, 0.9337717994371837, 0.14677149895062896, 0.2744872905832016, 0.056701789721726174, 0.25960345597131806, 1.0, 0.18487071580238, -0.18637418168248773], [0.1756829040406365, 0.18712259762959188, 0.12824164959372145, 0.014448453383727541, 0.21272701353675713, 0.006630635725148608, 0.18487071580238, 1.0, -0.019395456606176423], [0.014823177198094, 0.014704962089314919, 0.1764632393023287, -0.02990245001499572, 0.06762852385684047, 0.05414702811939326, -0.18637418168248773, -0.019395456606176423, 1.0]], \"x\": [\"loan_amnt\", \"funded_amnt\", \"int_rate\", \"annual_inc\", \"dti\", \"revol_bal\", \"total_pymnt\", \"issue_year\", \"defaulted_loan_int\"], \"y\": [\"loan_amnt\", \"funded_amnt\", \"int_rate\", \"annual_inc\", \"dti\", \"revol_bal\", \"total_pymnt\", \"issue_year\", \"defaulted_loan_int\"], \"colorscale\": [[0.0, \"rgb(165,0,38)\"], [0.1111111111111111, \"rgb(215,48,39)\"], [0.2222222222222222, \"rgb(244,109,67)\"], [0.3333333333333333, \"rgb(253,174,97)\"], [0.4444444444444444, \"rgb(254,224,144)\"], [0.5555555555555556, \"rgb(224,243,248)\"], [0.6666666666666666, \"rgb(171,217,233)\"], [0.7777777777777778, \"rgb(116,173,209)\"], [0.8888888888888888, \"rgb(69,117,180)\"], [1.0, \"rgb(49,54,149)\"]], \"colorbar\": {\"title\": \"Level of Correlation\", \"titleside\": \"top\", \"tickmode\": \"array\", \"tickvals\": [-0.52, 0.2, 0.95], \"ticktext\": [\"Negative Correlation\", \"Low Correlation\", \"Positive Correlation\"], \"ticks\": \"outside\"}}], {\"title\": \"Correlation Heatmap\"}, {\"showLink\": true, \"linkText\": \"Export to plot.ly\"})});</script>"
      ]
     },
     "metadata": {},
     "output_type": "display_data"
    }
   ],
   "source": [
    "df_correlations = df_loan.corr()\n",
    "\n",
    "\n",
    "trace = go.Heatmap(z=df_correlations.values,\n",
    "                   x=df_correlations.columns,\n",
    "                   y=df_correlations.columns,\n",
    "                  colorscale=[[0.0, 'rgb(165,0,38)'], \n",
    "                              [0.1111111111111111, 'rgb(215,48,39)'], \n",
    "                              [0.2222222222222222, 'rgb(244,109,67)'], \n",
    "                              [0.3333333333333333, 'rgb(253,174,97)'], \n",
    "                              [0.4444444444444444, 'rgb(254,224,144)'], \n",
    "                              [0.5555555555555556, 'rgb(224,243,248)'], \n",
    "                              [0.6666666666666666, 'rgb(171,217,233)'], \n",
    "                              [0.7777777777777778, 'rgb(116,173,209)'], \n",
    "                              [0.8888888888888888, 'rgb(69,117,180)'], \n",
    "                              [1.0, 'rgb(49,54,149)']],\n",
    "            colorbar = dict(\n",
    "            title = 'Level of Correlation',\n",
    "            titleside = 'top',\n",
    "            tickmode = 'array',\n",
    "            tickvals = [-0.52,0.2,0.95],\n",
    "            ticktext = ['Negative Correlation','Low Correlation','Positive Correlation'],\n",
    "            ticks = 'outside'\n",
    "        )\n",
    "                  )\n",
    "\n",
    "\n",
    "layout = {\"title\": \"Correlation Heatmap\"}\n",
    "data=[trace]\n",
    "\n",
    "fig = dict(data=data, layout=layout)\n",
    "iplot(fig, filename='labelled-heatmap')"
   ]
  },
  {
   "cell_type": "markdown",
   "metadata": {},
   "source": [
    "funded_amnt and loan_amnt suffer from collinearity! We will need to address that (at least) via regularization of our model.\n",
    "\n",
    "As expected, the default status is strongly negatively correlated with total payment made on the loan."
   ]
  },
  {
   "cell_type": "code",
   "execution_count": 38,
   "metadata": {},
   "outputs": [],
   "source": [
    "df_loan['diff_loan_funded']= df_36.loan_amnt.values-df_loan.funded_amnt.values"
   ]
  },
  {
   "cell_type": "code",
   "execution_count": 39,
   "metadata": {},
   "outputs": [
    {
     "name": "stdout",
     "output_type": "stream",
     "text": [
      "There is only 871 loans which had a difference between loan amnt and funded amount.\n"
     ]
    }
   ],
   "source": [
    "print(f'There is only {sum(df_loan[\"diff_loan_funded\"]>0)} loans which had a difference between loan amnt and funded amount.')"
   ]
  },
  {
   "cell_type": "code",
   "execution_count": 40,
   "metadata": {},
   "outputs": [
    {
     "data": {
      "text/plain": [
       "Index(['loan_amnt', 'funded_amnt', 'int_rate', 'grade', 'annual_inc',\n",
       "       'issue_d', 'dti', 'revol_bal', 'total_pymnt', 'loan_status',\n",
       "       'issue_year', 'defaulted_loan', 'defaulted_loan_int',\n",
       "       'diff_loan_funded'],\n",
       "      dtype='object')"
      ]
     },
     "execution_count": 40,
     "metadata": {},
     "output_type": "execute_result"
    }
   ],
   "source": [
    "df_loan.columns"
   ]
  },
  {
   "cell_type": "code",
   "execution_count": 41,
   "metadata": {},
   "outputs": [],
   "source": [
    "# drop cols we will not use\n",
    "# date (we will only use year)\n",
    "df_loan.drop(['loan_status','defaulted_loan','diff_loan_funded','issue_d'],axis=1,inplace=True)\n"
   ]
  },
  {
   "cell_type": "code",
   "execution_count": 42,
   "metadata": {},
   "outputs": [
    {
     "data": {
      "text/html": [
       "<div>\n",
       "<style scoped>\n",
       "    .dataframe tbody tr th:only-of-type {\n",
       "        vertical-align: middle;\n",
       "    }\n",
       "\n",
       "    .dataframe tbody tr th {\n",
       "        vertical-align: top;\n",
       "    }\n",
       "\n",
       "    .dataframe thead th {\n",
       "        text-align: right;\n",
       "    }\n",
       "</style>\n",
       "<table border=\"1\" class=\"dataframe\">\n",
       "  <thead>\n",
       "    <tr style=\"text-align: right;\">\n",
       "      <th></th>\n",
       "      <th>loan_amnt</th>\n",
       "      <th>funded_amnt</th>\n",
       "      <th>int_rate</th>\n",
       "      <th>grade</th>\n",
       "      <th>annual_inc</th>\n",
       "      <th>dti</th>\n",
       "      <th>revol_bal</th>\n",
       "      <th>total_pymnt</th>\n",
       "      <th>issue_year</th>\n",
       "      <th>defaulted_loan_int</th>\n",
       "    </tr>\n",
       "  </thead>\n",
       "  <tbody>\n",
       "    <tr>\n",
       "      <th>0</th>\n",
       "      <td>5000.0</td>\n",
       "      <td>5000.0</td>\n",
       "      <td>10.65</td>\n",
       "      <td>B</td>\n",
       "      <td>24000.0</td>\n",
       "      <td>27.65</td>\n",
       "      <td>13648.0</td>\n",
       "      <td>5861.071414</td>\n",
       "      <td>2011</td>\n",
       "      <td>0</td>\n",
       "    </tr>\n",
       "    <tr>\n",
       "      <th>2</th>\n",
       "      <td>2400.0</td>\n",
       "      <td>2400.0</td>\n",
       "      <td>15.96</td>\n",
       "      <td>C</td>\n",
       "      <td>12252.0</td>\n",
       "      <td>8.72</td>\n",
       "      <td>2956.0</td>\n",
       "      <td>3003.653644</td>\n",
       "      <td>2011</td>\n",
       "      <td>0</td>\n",
       "    </tr>\n",
       "    <tr>\n",
       "      <th>3</th>\n",
       "      <td>10000.0</td>\n",
       "      <td>10000.0</td>\n",
       "      <td>13.49</td>\n",
       "      <td>C</td>\n",
       "      <td>49200.0</td>\n",
       "      <td>20.00</td>\n",
       "      <td>5598.0</td>\n",
       "      <td>12226.302212</td>\n",
       "      <td>2011</td>\n",
       "      <td>0</td>\n",
       "    </tr>\n",
       "    <tr>\n",
       "      <th>5</th>\n",
       "      <td>5000.0</td>\n",
       "      <td>5000.0</td>\n",
       "      <td>7.90</td>\n",
       "      <td>A</td>\n",
       "      <td>36000.0</td>\n",
       "      <td>11.20</td>\n",
       "      <td>7963.0</td>\n",
       "      <td>5631.377753</td>\n",
       "      <td>2011</td>\n",
       "      <td>0</td>\n",
       "    </tr>\n",
       "    <tr>\n",
       "      <th>7</th>\n",
       "      <td>3000.0</td>\n",
       "      <td>3000.0</td>\n",
       "      <td>18.64</td>\n",
       "      <td>E</td>\n",
       "      <td>48000.0</td>\n",
       "      <td>5.35</td>\n",
       "      <td>8221.0</td>\n",
       "      <td>3938.144334</td>\n",
       "      <td>2011</td>\n",
       "      <td>0</td>\n",
       "    </tr>\n",
       "  </tbody>\n",
       "</table>\n",
       "</div>"
      ],
      "text/plain": [
       "   loan_amnt  funded_amnt  int_rate grade  annual_inc    dti  revol_bal  \\\n",
       "0     5000.0       5000.0     10.65     B     24000.0  27.65    13648.0   \n",
       "2     2400.0       2400.0     15.96     C     12252.0   8.72     2956.0   \n",
       "3    10000.0      10000.0     13.49     C     49200.0  20.00     5598.0   \n",
       "5     5000.0       5000.0      7.90     A     36000.0  11.20     7963.0   \n",
       "7     3000.0       3000.0     18.64     E     48000.0   5.35     8221.0   \n",
       "\n",
       "    total_pymnt  issue_year  defaulted_loan_int  \n",
       "0   5861.071414        2011                   0  \n",
       "2   3003.653644        2011                   0  \n",
       "3  12226.302212        2011                   0  \n",
       "5   5631.377753        2011                   0  \n",
       "7   3938.144334        2011                   0  "
      ]
     },
     "execution_count": 42,
     "metadata": {},
     "output_type": "execute_result"
    }
   ],
   "source": [
    "df_loan.head()"
   ]
  },
  {
   "cell_type": "code",
   "execution_count": 43,
   "metadata": {},
   "outputs": [],
   "source": [
    "df_loan['defaulted_loan_int'] = df_loan['defaulted_loan_int'].astype('category')\n",
    "'''\n",
    "note : including issue_year as a feature might be problematic from a business standpoint,\n",
    "as we would like to predict on new loans in the future - thus, I decided to drop the year\n",
    "'''\n",
    "df_loan.drop('issue_year',axis=1,inplace=True)\n",
    "#df_loan['issue_year'] = df_loan['issue_year'].astype('category')"
   ]
  },
  {
   "cell_type": "code",
   "execution_count": 44,
   "metadata": {},
   "outputs": [
    {
     "data": {
      "text/plain": [
       "loan_amnt              float64\n",
       "funded_amnt            float64\n",
       "int_rate               float64\n",
       "grade                 category\n",
       "annual_inc             float64\n",
       "dti                    float64\n",
       "revol_bal              float64\n",
       "total_pymnt            float64\n",
       "defaulted_loan_int    category\n",
       "dtype: object"
      ]
     },
     "execution_count": 44,
     "metadata": {},
     "output_type": "execute_result"
    }
   ],
   "source": [
    "df_loan.dtypes"
   ]
  },
  {
   "cell_type": "code",
   "execution_count": 45,
   "metadata": {},
   "outputs": [
    {
     "data": {
      "text/html": [
       "<div>\n",
       "<style scoped>\n",
       "    .dataframe tbody tr th:only-of-type {\n",
       "        vertical-align: middle;\n",
       "    }\n",
       "\n",
       "    .dataframe tbody tr th {\n",
       "        vertical-align: top;\n",
       "    }\n",
       "\n",
       "    .dataframe thead th {\n",
       "        text-align: right;\n",
       "    }\n",
       "</style>\n",
       "<table border=\"1\" class=\"dataframe\">\n",
       "  <thead>\n",
       "    <tr style=\"text-align: right;\">\n",
       "      <th></th>\n",
       "      <th>loan_amnt</th>\n",
       "      <th>funded_amnt</th>\n",
       "      <th>int_rate</th>\n",
       "      <th>annual_inc</th>\n",
       "      <th>dti</th>\n",
       "      <th>revol_bal</th>\n",
       "      <th>total_pymnt</th>\n",
       "    </tr>\n",
       "  </thead>\n",
       "  <tbody>\n",
       "    <tr>\n",
       "      <th>0</th>\n",
       "      <td>5000.0</td>\n",
       "      <td>5000.0</td>\n",
       "      <td>10.65</td>\n",
       "      <td>24000.0</td>\n",
       "      <td>27.65</td>\n",
       "      <td>13648.0</td>\n",
       "      <td>5861.071414</td>\n",
       "    </tr>\n",
       "    <tr>\n",
       "      <th>2</th>\n",
       "      <td>2400.0</td>\n",
       "      <td>2400.0</td>\n",
       "      <td>15.96</td>\n",
       "      <td>12252.0</td>\n",
       "      <td>8.72</td>\n",
       "      <td>2956.0</td>\n",
       "      <td>3003.653644</td>\n",
       "    </tr>\n",
       "    <tr>\n",
       "      <th>3</th>\n",
       "      <td>10000.0</td>\n",
       "      <td>10000.0</td>\n",
       "      <td>13.49</td>\n",
       "      <td>49200.0</td>\n",
       "      <td>20.00</td>\n",
       "      <td>5598.0</td>\n",
       "      <td>12226.302212</td>\n",
       "    </tr>\n",
       "    <tr>\n",
       "      <th>5</th>\n",
       "      <td>5000.0</td>\n",
       "      <td>5000.0</td>\n",
       "      <td>7.90</td>\n",
       "      <td>36000.0</td>\n",
       "      <td>11.20</td>\n",
       "      <td>7963.0</td>\n",
       "      <td>5631.377753</td>\n",
       "    </tr>\n",
       "    <tr>\n",
       "      <th>7</th>\n",
       "      <td>3000.0</td>\n",
       "      <td>3000.0</td>\n",
       "      <td>18.64</td>\n",
       "      <td>48000.0</td>\n",
       "      <td>5.35</td>\n",
       "      <td>8221.0</td>\n",
       "      <td>3938.144334</td>\n",
       "    </tr>\n",
       "  </tbody>\n",
       "</table>\n",
       "</div>"
      ],
      "text/plain": [
       "   loan_amnt  funded_amnt  int_rate  annual_inc    dti  revol_bal  \\\n",
       "0     5000.0       5000.0     10.65     24000.0  27.65    13648.0   \n",
       "2     2400.0       2400.0     15.96     12252.0   8.72     2956.0   \n",
       "3    10000.0      10000.0     13.49     49200.0  20.00     5598.0   \n",
       "5     5000.0       5000.0      7.90     36000.0  11.20     7963.0   \n",
       "7     3000.0       3000.0     18.64     48000.0   5.35     8221.0   \n",
       "\n",
       "    total_pymnt  \n",
       "0   5861.071414  \n",
       "2   3003.653644  \n",
       "3  12226.302212  \n",
       "5   5631.377753  \n",
       "7   3938.144334  "
      ]
     },
     "execution_count": 45,
     "metadata": {},
     "output_type": "execute_result"
    }
   ],
   "source": [
    "# standardize continuous variables and get dummies for categorical\n",
    "df_loan.loc[:,continuous].head()"
   ]
  },
  {
   "cell_type": "code",
   "execution_count": 46,
   "metadata": {},
   "outputs": [
    {
     "data": {
      "text/html": [
       "<div>\n",
       "<style scoped>\n",
       "    .dataframe tbody tr th:only-of-type {\n",
       "        vertical-align: middle;\n",
       "    }\n",
       "\n",
       "    .dataframe tbody tr th {\n",
       "        vertical-align: top;\n",
       "    }\n",
       "\n",
       "    .dataframe thead th {\n",
       "        text-align: right;\n",
       "    }\n",
       "</style>\n",
       "<table border=\"1\" class=\"dataframe\">\n",
       "  <thead>\n",
       "    <tr style=\"text-align: right;\">\n",
       "      <th></th>\n",
       "      <th>defaulted_loan_int</th>\n",
       "      <th>grade</th>\n",
       "    </tr>\n",
       "  </thead>\n",
       "  <tbody>\n",
       "    <tr>\n",
       "      <th>0</th>\n",
       "      <td>0</td>\n",
       "      <td>B</td>\n",
       "    </tr>\n",
       "    <tr>\n",
       "      <th>2</th>\n",
       "      <td>0</td>\n",
       "      <td>C</td>\n",
       "    </tr>\n",
       "    <tr>\n",
       "      <th>3</th>\n",
       "      <td>0</td>\n",
       "      <td>C</td>\n",
       "    </tr>\n",
       "    <tr>\n",
       "      <th>5</th>\n",
       "      <td>0</td>\n",
       "      <td>A</td>\n",
       "    </tr>\n",
       "    <tr>\n",
       "      <th>7</th>\n",
       "      <td>0</td>\n",
       "      <td>E</td>\n",
       "    </tr>\n",
       "  </tbody>\n",
       "</table>\n",
       "</div>"
      ],
      "text/plain": [
       "  defaulted_loan_int grade\n",
       "0                  0     B\n",
       "2                  0     C\n",
       "3                  0     C\n",
       "5                  0     A\n",
       "7                  0     E"
      ]
     },
     "execution_count": 46,
     "metadata": {},
     "output_type": "execute_result"
    }
   ],
   "source": [
    "df_loan.loc[:,df_loan.columns.difference(continuous)].head()"
   ]
  },
  {
   "cell_type": "code",
   "execution_count": 47,
   "metadata": {},
   "outputs": [
    {
     "data": {
      "text/plain": [
       "False"
      ]
     },
     "execution_count": 47,
     "metadata": {},
     "output_type": "execute_result"
    }
   ],
   "source": [
    "# check fr missing values in the dataframe one more time\n",
    "df_loan.isnull().any().any()"
   ]
  },
  {
   "cell_type": "code",
   "execution_count": 48,
   "metadata": {},
   "outputs": [
    {
     "name": "stdout",
     "output_type": "stream",
     "text": [
      "Train set ratio \n",
      " 0    0.814724\n",
      "1    0.185276\n",
      "Name: defaulted_loan_int, dtype: float64\n",
      "Test set ratio \n",
      " 0    0.814724\n",
      "1    0.185276\n",
      "Name: defaulted_loan_int, dtype: float64\n"
     ]
    }
   ],
   "source": [
    "# deploy stratified train/test split to make sure we have a similar proportion\n",
    "# of defaulted loans in both train/test sets\n",
    "from sklearn.model_selection import train_test_split\n",
    "\n",
    "train,test = train_test_split(df_loan,test_size=0.25,stratify = df_loan['defaulted_loan_int'])\n",
    "\n",
    "print('Train set ratio \\n', train[\"defaulted_loan_int\"].value_counts()/len(train))\n",
    "print('Test set ratio \\n', test[\"defaulted_loan_int\"].value_counts()/len(test))"
   ]
  },
  {
   "cell_type": "code",
   "execution_count": 49,
   "metadata": {},
   "outputs": [],
   "source": [
    "x_train = train.drop('defaulted_loan_int',axis=1)\n",
    "y_train = train['defaulted_loan_int']\n",
    "\n",
    "x_test = test.drop('defaulted_loan_int',axis=1)\n",
    "y_test = test['defaulted_loan_int']"
   ]
  },
  {
   "cell_type": "code",
   "execution_count": 50,
   "metadata": {},
   "outputs": [
    {
     "name": "stdout",
     "output_type": "stream",
     "text": [
      "(64914, 8) (64914,) (21638, 8) (21638,)\n"
     ]
    }
   ],
   "source": [
    "# check dimensions\n",
    "print(x_train.shape,y_train.shape,x_test.shape,y_test.shape)"
   ]
  },
  {
   "cell_type": "code",
   "execution_count": 51,
   "metadata": {},
   "outputs": [],
   "source": [
    "# now, we standardize our continuous variables"
   ]
  },
  {
   "cell_type": "code",
   "execution_count": 52,
   "metadata": {},
   "outputs": [],
   "source": [
    "from sklearn.preprocessing import StandardScaler"
   ]
  },
  {
   "cell_type": "code",
   "execution_count": 53,
   "metadata": {},
   "outputs": [],
   "source": [
    "scaler = StandardScaler()"
   ]
  },
  {
   "cell_type": "code",
   "execution_count": 54,
   "metadata": {},
   "outputs": [
    {
     "data": {
      "text/plain": [
       "(Index(['loan_amnt', 'funded_amnt', 'int_rate', 'annual_inc', 'dti',\n",
       "        'revol_bal', 'total_pymnt'],\n",
       "       dtype='object'),\n",
       " Index(['loan_amnt', 'funded_amnt', 'int_rate', 'annual_inc', 'dti',\n",
       "        'revol_bal', 'total_pymnt'],\n",
       "       dtype='object'))"
      ]
     },
     "execution_count": 54,
     "metadata": {},
     "output_type": "execute_result"
    }
   ],
   "source": [
    "x_train.loc[:,continuous].columns,x_test.loc[:,continuous].columns"
   ]
  },
  {
   "cell_type": "code",
   "execution_count": 55,
   "metadata": {},
   "outputs": [
    {
     "data": {
      "text/plain": [
       "StandardScaler(copy=True, with_mean=True, with_std=True)"
      ]
     },
     "execution_count": 55,
     "metadata": {},
     "output_type": "execute_result"
    }
   ],
   "source": [
    "scaler.fit(x_train.loc[:,continuous])"
   ]
  },
  {
   "cell_type": "code",
   "execution_count": 56,
   "metadata": {},
   "outputs": [],
   "source": [
    "x_train.loc[:,continuous] = scaler.fit_transform(x_train.loc[:,continuous])"
   ]
  },
  {
   "cell_type": "code",
   "execution_count": 57,
   "metadata": {},
   "outputs": [],
   "source": [
    "# we make sure to standardize test set columns with mean and std of cols from the training test (to prevent information bleed)\n",
    "x_test.loc[:,continuous] = scaler.fit_transform(x_test.loc[:,continuous])"
   ]
  },
  {
   "cell_type": "code",
   "execution_count": 58,
   "metadata": {},
   "outputs": [
    {
     "data": {
      "text/html": [
       "<div>\n",
       "<style scoped>\n",
       "    .dataframe tbody tr th:only-of-type {\n",
       "        vertical-align: middle;\n",
       "    }\n",
       "\n",
       "    .dataframe tbody tr th {\n",
       "        vertical-align: top;\n",
       "    }\n",
       "\n",
       "    .dataframe thead th {\n",
       "        text-align: right;\n",
       "    }\n",
       "</style>\n",
       "<table border=\"1\" class=\"dataframe\">\n",
       "  <thead>\n",
       "    <tr style=\"text-align: right;\">\n",
       "      <th></th>\n",
       "      <th>loan_amnt</th>\n",
       "      <th>funded_amnt</th>\n",
       "      <th>int_rate</th>\n",
       "      <th>grade</th>\n",
       "      <th>annual_inc</th>\n",
       "      <th>dti</th>\n",
       "      <th>revol_bal</th>\n",
       "      <th>total_pymnt</th>\n",
       "    </tr>\n",
       "  </thead>\n",
       "  <tbody>\n",
       "    <tr>\n",
       "      <th>40975</th>\n",
       "      <td>-1.261596</td>\n",
       "      <td>-1.258555</td>\n",
       "      <td>1.031034</td>\n",
       "      <td>D</td>\n",
       "      <td>0.401458</td>\n",
       "      <td>1.225099</td>\n",
       "      <td>1.085265</td>\n",
       "      <td>-1.124496</td>\n",
       "    </tr>\n",
       "    <tr>\n",
       "      <th>209813</th>\n",
       "      <td>-0.341435</td>\n",
       "      <td>-0.334739</td>\n",
       "      <td>-0.287566</td>\n",
       "      <td>B</td>\n",
       "      <td>-0.548811</td>\n",
       "      <td>1.025096</td>\n",
       "      <td>-0.000849</td>\n",
       "      <td>-0.218189</td>\n",
       "    </tr>\n",
       "    <tr>\n",
       "      <th>173167</th>\n",
       "      <td>0.197110</td>\n",
       "      <td>0.205944</td>\n",
       "      <td>-0.021676</td>\n",
       "      <td>B</td>\n",
       "      <td>-0.300474</td>\n",
       "      <td>1.986698</td>\n",
       "      <td>-0.272878</td>\n",
       "      <td>0.344657</td>\n",
       "    </tr>\n",
       "    <tr>\n",
       "      <th>177420</th>\n",
       "      <td>1.409726</td>\n",
       "      <td>1.423376</td>\n",
       "      <td>-1.513920</td>\n",
       "      <td>A</td>\n",
       "      <td>0.667533</td>\n",
       "      <td>1.621130</td>\n",
       "      <td>4.349111</td>\n",
       "      <td>1.336986</td>\n",
       "    </tr>\n",
       "    <tr>\n",
       "      <th>183686</th>\n",
       "      <td>0.125779</td>\n",
       "      <td>0.134331</td>\n",
       "      <td>-0.021676</td>\n",
       "      <td>B</td>\n",
       "      <td>-0.168704</td>\n",
       "      <td>0.756219</td>\n",
       "      <td>0.168425</td>\n",
       "      <td>0.272535</td>\n",
       "    </tr>\n",
       "  </tbody>\n",
       "</table>\n",
       "</div>"
      ],
      "text/plain": [
       "        loan_amnt  funded_amnt  int_rate grade  annual_inc       dti  \\\n",
       "40975   -1.261596    -1.258555  1.031034     D    0.401458  1.225099   \n",
       "209813  -0.341435    -0.334739 -0.287566     B   -0.548811  1.025096   \n",
       "173167   0.197110     0.205944 -0.021676     B   -0.300474  1.986698   \n",
       "177420   1.409726     1.423376 -1.513920     A    0.667533  1.621130   \n",
       "183686   0.125779     0.134331 -0.021676     B   -0.168704  0.756219   \n",
       "\n",
       "        revol_bal  total_pymnt  \n",
       "40975    1.085265    -1.124496  \n",
       "209813  -0.000849    -0.218189  \n",
       "173167  -0.272878     0.344657  \n",
       "177420   4.349111     1.336986  \n",
       "183686   0.168425     0.272535  "
      ]
     },
     "execution_count": 58,
     "metadata": {},
     "output_type": "execute_result"
    }
   ],
   "source": [
    "x_test.head()"
   ]
  },
  {
   "cell_type": "code",
   "execution_count": 59,
   "metadata": {},
   "outputs": [
    {
     "name": "stdout",
     "output_type": "stream",
     "text": [
      "(64914, 8) (64914,) (21638, 8) (21638,)\n"
     ]
    }
   ],
   "source": [
    "# one-hot encoding of categorical variables\n",
    "# we need to concatenate and then split x_train,x_test again (to ensure same categories)\n",
    "print(x_train.shape,y_train.shape,x_test.shape,y_test.shape)"
   ]
  },
  {
   "cell_type": "code",
   "execution_count": 60,
   "metadata": {},
   "outputs": [],
   "source": [
    "data = pd.concat((x_train,x_test))"
   ]
  },
  {
   "cell_type": "code",
   "execution_count": 61,
   "metadata": {},
   "outputs": [
    {
     "data": {
      "text/plain": [
       "(86552, 8)"
      ]
     },
     "execution_count": 61,
     "metadata": {},
     "output_type": "execute_result"
    }
   ],
   "source": [
    "data.shape"
   ]
  },
  {
   "cell_type": "code",
   "execution_count": 62,
   "metadata": {},
   "outputs": [],
   "source": [
    "data_one_hot = pd.get_dummies(data)"
   ]
  },
  {
   "cell_type": "code",
   "execution_count": 63,
   "metadata": {},
   "outputs": [],
   "source": [
    "x_train = data_one_hot.iloc[:x_train.shape[0],:]\n",
    "x_test = data_one_hot.iloc[x_train.shape[0]:,:]"
   ]
  },
  {
   "cell_type": "code",
   "execution_count": 64,
   "metadata": {},
   "outputs": [
    {
     "name": "stdout",
     "output_type": "stream",
     "text": [
      "(64914, 14) (64914,) (21638, 14) (21638,)\n"
     ]
    }
   ],
   "source": [
    "print(x_train.shape,y_train.shape,x_test.shape,y_test.shape)"
   ]
  },
  {
   "cell_type": "code",
   "execution_count": 65,
   "metadata": {},
   "outputs": [
    {
     "data": {
      "text/plain": [
       "set()"
      ]
     },
     "execution_count": 65,
     "metadata": {},
     "output_type": "execute_result"
    }
   ],
   "source": [
    "# difference in columns train/test sets\n",
    "set(x_train.columns)^set(x_test.columns)"
   ]
  },
  {
   "cell_type": "code",
   "execution_count": 66,
   "metadata": {},
   "outputs": [
    {
     "data": {
      "text/html": [
       "<div>\n",
       "<style scoped>\n",
       "    .dataframe tbody tr th:only-of-type {\n",
       "        vertical-align: middle;\n",
       "    }\n",
       "\n",
       "    .dataframe tbody tr th {\n",
       "        vertical-align: top;\n",
       "    }\n",
       "\n",
       "    .dataframe thead th {\n",
       "        text-align: right;\n",
       "    }\n",
       "</style>\n",
       "<table border=\"1\" class=\"dataframe\">\n",
       "  <thead>\n",
       "    <tr style=\"text-align: right;\">\n",
       "      <th></th>\n",
       "      <th>loan_amnt</th>\n",
       "      <th>funded_amnt</th>\n",
       "      <th>int_rate</th>\n",
       "      <th>annual_inc</th>\n",
       "      <th>dti</th>\n",
       "      <th>revol_bal</th>\n",
       "      <th>total_pymnt</th>\n",
       "      <th>grade_A</th>\n",
       "      <th>grade_B</th>\n",
       "      <th>grade_C</th>\n",
       "      <th>grade_D</th>\n",
       "      <th>grade_E</th>\n",
       "      <th>grade_F</th>\n",
       "      <th>grade_G</th>\n",
       "    </tr>\n",
       "  </thead>\n",
       "  <tbody>\n",
       "    <tr>\n",
       "      <th>15912</th>\n",
       "      <td>-0.933563</td>\n",
       "      <td>-0.929704</td>\n",
       "      <td>-0.331353</td>\n",
       "      <td>-0.344336</td>\n",
       "      <td>-0.840910</td>\n",
       "      <td>-0.647720</td>\n",
       "      <td>-0.806598</td>\n",
       "      <td>0</td>\n",
       "      <td>1</td>\n",
       "      <td>0</td>\n",
       "      <td>0</td>\n",
       "      <td>0</td>\n",
       "      <td>0</td>\n",
       "      <td>0</td>\n",
       "    </tr>\n",
       "    <tr>\n",
       "      <th>28596</th>\n",
       "      <td>0.682906</td>\n",
       "      <td>0.691082</td>\n",
       "      <td>0.686468</td>\n",
       "      <td>0.547026</td>\n",
       "      <td>0.270383</td>\n",
       "      <td>0.278637</td>\n",
       "      <td>0.914853</td>\n",
       "      <td>0</td>\n",
       "      <td>0</td>\n",
       "      <td>1</td>\n",
       "      <td>0</td>\n",
       "      <td>0</td>\n",
       "      <td>0</td>\n",
       "      <td>0</td>\n",
       "    </tr>\n",
       "    <tr>\n",
       "      <th>212856</th>\n",
       "      <td>-1.254009</td>\n",
       "      <td>-1.251005</td>\n",
       "      <td>-0.666988</td>\n",
       "      <td>-0.631526</td>\n",
       "      <td>0.283708</td>\n",
       "      <td>-0.034693</td>\n",
       "      <td>-1.129293</td>\n",
       "      <td>0</td>\n",
       "      <td>1</td>\n",
       "      <td>0</td>\n",
       "      <td>0</td>\n",
       "      <td>0</td>\n",
       "      <td>0</td>\n",
       "      <td>0</td>\n",
       "    </tr>\n",
       "    <tr>\n",
       "      <th>4369</th>\n",
       "      <td>-0.314036</td>\n",
       "      <td>-0.308521</td>\n",
       "      <td>-1.523813</td>\n",
       "      <td>-0.578833</td>\n",
       "      <td>1.412324</td>\n",
       "      <td>-0.042456</td>\n",
       "      <td>-0.571495</td>\n",
       "      <td>1</td>\n",
       "      <td>0</td>\n",
       "      <td>0</td>\n",
       "      <td>0</td>\n",
       "      <td>0</td>\n",
       "      <td>0</td>\n",
       "      <td>0</td>\n",
       "    </tr>\n",
       "    <tr>\n",
       "      <th>210929</th>\n",
       "      <td>-0.228583</td>\n",
       "      <td>-0.222841</td>\n",
       "      <td>-0.023005</td>\n",
       "      <td>0.889857</td>\n",
       "      <td>1.450966</td>\n",
       "      <td>0.861211</td>\n",
       "      <td>-0.086867</td>\n",
       "      <td>0</td>\n",
       "      <td>1</td>\n",
       "      <td>0</td>\n",
       "      <td>0</td>\n",
       "      <td>0</td>\n",
       "      <td>0</td>\n",
       "      <td>0</td>\n",
       "    </tr>\n",
       "  </tbody>\n",
       "</table>\n",
       "</div>"
      ],
      "text/plain": [
       "        loan_amnt  funded_amnt  int_rate  annual_inc       dti  revol_bal  \\\n",
       "15912   -0.933563    -0.929704 -0.331353   -0.344336 -0.840910  -0.647720   \n",
       "28596    0.682906     0.691082  0.686468    0.547026  0.270383   0.278637   \n",
       "212856  -1.254009    -1.251005 -0.666988   -0.631526  0.283708  -0.034693   \n",
       "4369    -0.314036    -0.308521 -1.523813   -0.578833  1.412324  -0.042456   \n",
       "210929  -0.228583    -0.222841 -0.023005    0.889857  1.450966   0.861211   \n",
       "\n",
       "        total_pymnt  grade_A  grade_B  grade_C  grade_D  grade_E  grade_F  \\\n",
       "15912     -0.806598        0        1        0        0        0        0   \n",
       "28596      0.914853        0        0        1        0        0        0   \n",
       "212856    -1.129293        0        1        0        0        0        0   \n",
       "4369      -0.571495        1        0        0        0        0        0   \n",
       "210929    -0.086867        0        1        0        0        0        0   \n",
       "\n",
       "        grade_G  \n",
       "15912         0  \n",
       "28596         0  \n",
       "212856        0  \n",
       "4369          0  \n",
       "210929        0  "
      ]
     },
     "execution_count": 66,
     "metadata": {},
     "output_type": "execute_result"
    }
   ],
   "source": [
    "x_train.head()"
   ]
  },
  {
   "cell_type": "code",
   "execution_count": 208,
   "metadata": {},
   "outputs": [],
   "source": [
    "# save pre-processed data\n",
    "x_train.to_csv('lending-club-loan-data/x_train_preprocessed.csv')\n",
    "y_train.to_csv('lending-club-loan-data/y_train_preprocessed.csv')\n",
    "x_test.to_csv('lending-club-loan-data/x_test_preprocessed.csv')\n",
    "y_test.to_csv('lending-club-loan-data/x_test_preprocessed.csv')"
   ]
  },
  {
   "cell_type": "markdown",
   "metadata": {},
   "source": [
    "## Modeling and Evaluation"
   ]
  },
  {
   "cell_type": "code",
   "execution_count": 67,
   "metadata": {},
   "outputs": [],
   "source": [
    "from sklearn.linear_model import LogisticRegression\n",
    "from sklearn.linear_model import LogisticRegressionCV\n",
    "from sklearn.metrics import accuracy_score"
   ]
  },
  {
   "cell_type": "code",
   "execution_count": 68,
   "metadata": {},
   "outputs": [],
   "source": [
    "# try baseline logistic regression without sample weighting or cross-validation of parameters"
   ]
  },
  {
   "cell_type": "code",
   "execution_count": 183,
   "metadata": {},
   "outputs": [
    {
     "name": "stdout",
     "output_type": "stream",
     "text": [
      "train score: 0.9042271312813877 test score: 0.9040576763101951 with year as a feature.\n"
     ]
    }
   ],
   "source": [
    "## DO NOT RUN THIS CELL (will not work as I threw out year from previous cells for reasons stated above)\n",
    "run_this = False\n",
    "    if run_this:\n",
    "    logreg = LogisticRegression(C=100000, fit_intercept=False,solver='lbfgs')\n",
    "    logreg.fit(x_train, y_train)\n",
    "\n",
    "    # output \n",
    "    y_train_pred = logreg.predict(x_train)\n",
    "    y_test_pred = logreg.predict(x_test)\n",
    "\n",
    "    train_score_logreg = accuracy_score(y_train, y_train_pred)\n",
    "    test_score_logreg = accuracy_score(y_test, y_test_pred)\n",
    "\n",
    "    print(\"train score:\", train_score_logreg, \"test score:\", test_score_logreg, 'with year as a feature.')"
   ]
  },
  {
   "cell_type": "code",
   "execution_count": 69,
   "metadata": {},
   "outputs": [
    {
     "name": "stdout",
     "output_type": "stream",
     "text": [
      "train score: 0.91082047016052 test score: 0.9124688048803031 without year as a feature.\n"
     ]
    }
   ],
   "source": [
    "logreg = LogisticRegression(C=100000, fit_intercept=False,solver='lbfgs')\n",
    "logreg.fit(x_train, y_train)\n",
    " \n",
    "# output \n",
    "y_train_pred = logreg.predict(x_train)\n",
    "y_test_pred = logreg.predict(x_test)\n",
    "\n",
    "train_score_logreg = accuracy_score(y_train, y_train_pred)\n",
    "test_score_logreg = accuracy_score(y_test, y_test_pred)\n",
    "\n",
    "print(\"train score:\", train_score_logreg, \"test score:\", test_score_logreg, 'without year as a feature.')"
   ]
  },
  {
   "cell_type": "markdown",
   "metadata": {},
   "source": [
    "This is a pretty decent accuracy of this out-of-the box model. This means that 91% of all applicants were correctly classified in default/will not default buckets. **But be careful!** We have a highly imbalanced dataset, thus accuracy alone does not speak enough about the \"quality\" of our model.\n",
    "\n",
    "Also, we actually improved without including the year as a feature! This is likely due to the imbalance of origination years among train/test sets.\n",
    "\n",
    "Let's look at other characteristics, such as the confusion matrix, to really understand the model."
   ]
  },
  {
   "cell_type": "code",
   "execution_count": 70,
   "metadata": {},
   "outputs": [],
   "source": [
    "import sklearn.metrics as metrics\n",
    "from tqdm import tqdm_notebook as tqdm\n",
    "import itertools"
   ]
  },
  {
   "cell_type": "markdown",
   "metadata": {},
   "source": [
    "## perform bootstrap to see how many and which features are significant at 95% significance level."
   ]
  },
  {
   "cell_type": "code",
   "execution_count": 227,
   "metadata": {},
   "outputs": [
    {
     "data": {
      "application/vnd.jupyter.widget-view+json": {
       "model_id": "c3d8a75d74e74a42898d201049f757aa",
       "version_major": 2,
       "version_minor": 0
      },
      "text/plain": [
       "HBox(children=(IntProgress(value=0, max=200), HTML(value='')))"
      ]
     },
     "metadata": {},
     "output_type": "display_data"
    },
    {
     "name": "stdout",
     "output_type": "stream",
     "text": [
      "\n"
     ]
    }
   ],
   "source": [
    "# bootstrapping code\n",
    "\n",
    "n = 200 # Number of iterations\n",
    "boot_coefs = np.zeros((x_train.shape[1],n)) # Create empty storage array for later use\n",
    "\n",
    "# iteration for each sample\n",
    "for i in tqdm(range(n)):\n",
    "    # Sampling WITH replacement the indices of a resampled dataset \n",
    "    sample_index = np.random.choice(range(y_train.shape[0]), size=y_train.shape[0], replace=True)\n",
    "\n",
    "    # finding subset\n",
    "    x_train_samples = x_train.values[sample_index]\n",
    "    y_train_samples = y_train.values[sample_index]\n",
    "    \n",
    "    # finding logreg coefficient\n",
    "    logistic_mod_boot = LogisticRegression(C=100000, fit_intercept=True,solver='lbfgs',max_iter=300) \n",
    "    logistic_mod_boot.fit(x_train_samples, y_train_samples) \n",
    "    boot_coefs[:,i] = logistic_mod_boot.coef_"
   ]
  },
  {
   "cell_type": "code",
   "execution_count": 230,
   "metadata": {},
   "outputs": [
    {
     "name": "stdout",
     "output_type": "stream",
     "text": [
      "Significant coefficents at 5pct level = 12 / 14\n",
      "Number of significant columns:  12\n"
     ]
    }
   ],
   "source": [
    "ci_upper = np.percentile(boot_coefs, 97.5, axis=1)\n",
    "ci_lower = np.percentile(boot_coefs, 2.5, axis=1)\n",
    "\n",
    "# ct significant predictors\n",
    "sig_b_ct = 0\n",
    "sig_preds = []\n",
    "cols = list(x_train.columns)\n",
    "\n",
    "# if ci contains 0, then insignificant\n",
    "for i in range(len(ci_upper)):\n",
    "    if ci_upper[i]<=0 or ci_lower[i]>=0:\n",
    "            sig_b_ct += 1\n",
    "            sig_preds.append(cols[i])\n",
    "\n",
    "print(\"Significant coefficents at 5pct level = %i / %i\" % (sig_b_ct, len(ci_upper)))\n",
    "print('Number of significant columns: ', len(sig_preds))"
   ]
  },
  {
   "cell_type": "code",
   "execution_count": 231,
   "metadata": {},
   "outputs": [
    {
     "data": {
      "text/plain": [
       "{'int_rate', 'loan_amnt'}"
      ]
     },
     "execution_count": 231,
     "metadata": {},
     "output_type": "execute_result"
    }
   ],
   "source": [
    "set(sig_preds)^set(x_train.columns)"
   ]
  },
  {
   "cell_type": "markdown",
   "metadata": {},
   "source": [
    "We confirmed that all except interest rates and loan amounts are significant features at 95% significance level for predicting default rates, which is interesting finding! It makes sense as the interest rate and loan amount are things the bank official creates after evaluating the loan applicant.\n",
    "\n"
   ]
  },
  {
   "cell_type": "code",
   "execution_count": 71,
   "metadata": {},
   "outputs": [],
   "source": [
    "def plot_confusion_matrix(cm, classes,\n",
    "                          normalize=False,\n",
    "                          title='Confusion matrix',\n",
    "                          cmap=plt.cm.Blues):\n",
    "    \"\"\"\n",
    "    This function prints and plots the confusion matrix.\n",
    "    Normalization can be applied by setting `normalize=True`.\n",
    "    \"\"\"\n",
    "    if normalize:\n",
    "        cm = cm.astype('float') / cm.sum(axis=1)[:, np.newaxis]\n",
    "        print(\"Normalized confusion matrix\")\n",
    "    else:\n",
    "        print('Confusion matrix, without normalization')\n",
    "\n",
    "    print(cm)\n",
    "\n",
    "    plt.imshow(cm, interpolation='nearest', cmap=cmap)\n",
    "    plt.title(title)\n",
    "    plt.colorbar()\n",
    "    tick_marks = np.arange(len(classes))\n",
    "    plt.xticks(tick_marks, classes, rotation=0) #45\n",
    "    plt.yticks(tick_marks, classes, rotation=90) #0\n",
    "\n",
    "    fmt = '.2f' if normalize else 'd'\n",
    "    thresh = cm.max() / 2.\n",
    "    for i, j in itertools.product(range(cm.shape[0]), range(cm.shape[1])):\n",
    "        plt.text(j, i, format(cm[i, j], fmt),\n",
    "                 horizontalalignment=\"center\",\n",
    "                 color=\"white\" if cm[i, j] > thresh else \"black\")\n",
    "\n",
    "    plt.tight_layout()\n",
    "    plt.ylabel('True label')\n",
    "    plt.xlabel('Predicted label')"
   ]
  },
  {
   "cell_type": "code",
   "execution_count": 72,
   "metadata": {},
   "outputs": [
    {
     "name": "stdout",
     "output_type": "stream",
     "text": [
      "Confusion matrix, without normalization\n",
      "[[17438   191]\n",
      " [ 1703  2306]]\n"
     ]
    },
    {
     "data": {
      "image/png": "[encoded data removed]",
      "text/plain": [
       "<Figure size 432x288 with 2 Axes>"
      ]
     },
     "metadata": {},
     "output_type": "display_data"
    }
   ],
   "source": [
    "plot_confusion_matrix(metrics.confusion_matrix(y_test, y_test_pred),classes=['0','1']);"
   ]
  },
  {
   "cell_type": "code",
   "execution_count": 73,
   "metadata": {},
   "outputs": [
    {
     "name": "stdout",
     "output_type": "stream",
     "text": [
      "The true positive rate for the logistic regression: 0.5752057869792966\n",
      "\n",
      "The true negative rate for the logistic regression: 0.9891655794429633\n",
      "\n",
      "The false positive rate for the logistic regression: 0.0108344205570367\n",
      "\n",
      "The false negative rate for the logistic regression: 0.4247942130207034\n"
     ]
    }
   ],
   "source": [
    "tn_logreg, fp_logreg, fn_logreg, tp_logreg = metrics.confusion_matrix(y_test, y_test_pred).astype('float').ravel()\n",
    "\n",
    "print(\"The true positive rate for the logistic regression:\",tp_logreg/(tp_logreg + fn_logreg))\n",
    "print(\"\")\n",
    "print(\"The true negative rate for the logistic regression:\",tn_logreg/(tn_logreg + fp_logreg))\n",
    "print(\"\")\n",
    "print(\"The false positive rate for the logistic regression:\",fp_logreg/(fp_logreg + tn_logreg))\n",
    "print(\"\")\n",
    "print(\"The false negative rate for the logistic regression:\",fn_logreg/(tp_logreg + fn_logreg))"
   ]
  },
  {
   "cell_type": "code",
   "execution_count": 77,
   "metadata": {},
   "outputs": [
    {
     "data": {
      "image/png": "[encoded data removed]",
      "text/plain": [
       "<Figure size 864x288 with 1 Axes>"
      ]
     },
     "metadata": {},
     "output_type": "display_data"
    }
   ],
   "source": [
    "fprs_logreg, tprs_logreg, thresh_logreg = metrics.roc_curve(y_test, logreg.predict_proba(x_test)[:,1])\n",
    "y_all_normal = np.zeros(len(y_test))\n",
    "\n",
    "fprs_zeros, tprs_zeros, thresh_zeros = metrics.roc_curve(y_test, y_all_normal)\n",
    "\n",
    "# Plot the ROC curves\n",
    "fig1, ax1 = plt.subplots(1, 1)\n",
    "fig1.set_figwidth(12)\n",
    "\n",
    "ax1.set_title(\"ROC Curve - Logistic Regression\")\n",
    "ax1.plot(fprs_logreg, tprs_logreg, color='blue')\n",
    "ax1.plot([0,1],[0,1], \"--\", color='grey')\n",
    "ax1.set( aspect='equal')\n",
    "ax1.grid(True)\n",
    "ax1.set_xlim(-0.01,1.01), ax1.set_ylim(-0.01,1.01)\n",
    "ax1.set_xlabel(\"False positive rate\"), ax1.set_ylabel(\"True positive rate\");"
   ]
  },
  {
   "cell_type": "markdown",
   "metadata": {},
   "source": [
    "Evaluation: \n",
    "\n",
    "our model is really **specific, i.e., has high recall** (HIGH specificity)- this means that the model is great in  classifying correctly people who will actually **not** default in 99% of the test cases.\n",
    "\n",
    "However, our model is **not sensitive i.e., not precise** in identifying true positives (LOW sensitivity), i.e. it predicts a large amount of loans to NOT default even if they actually **defaulted**. \n",
    "\n",
    "This is very problematic. Obviously, bank officials would like to have \"safe\" predictions - meaning we do not want to lose money on giving loans to people who would default- this model is **BAD** as the false negative rate (i.e., 42% of will-default loans are predicted as will NOT default). \n",
    "\n",
    "Now, we will try to improve it by cross-validating the regularization and sample weighting."
   ]
  },
  {
   "cell_type": "code",
   "execution_count": 78,
   "metadata": {},
   "outputs": [
    {
     "name": "stdout",
     "output_type": "stream",
     "text": [
      "train score: 0.6762023600455987 test score: 0.6764488400036972 without year as a feature.\n"
     ]
    }
   ],
   "source": [
    "weight_not_default = 1\n",
    "weight_default = 12\n",
    "logreg = LogisticRegressionCV(Cs=[10,100,100,10000,100000], fit_intercept=True,solver='lbfgs',\\\n",
    "                              max_iter = 200,cv=5,class_weight = {0: weight_not_default, 1: weight_default})\n",
    "logreg.fit(x_train, y_train)\n",
    " \n",
    "# output \n",
    "y_train_pred = logreg.predict(x_train)\n",
    "y_test_pred = logreg.predict(x_test)\n",
    "\n",
    "train_score_logreg = accuracy_score(y_train, y_train_pred)\n",
    "test_score_logreg = accuracy_score(y_test, y_test_pred)\n",
    "\n",
    "print(\"train score:\", train_score_logreg, \"test score:\", test_score_logreg, 'without year as a feature.')"
   ]
  },
  {
   "cell_type": "code",
   "execution_count": 79,
   "metadata": {},
   "outputs": [
    {
     "name": "stdout",
     "output_type": "stream",
     "text": [
      "Confusion matrix, without normalization\n",
      "[[11092  6537]\n",
      " [  464  3545]]\n"
     ]
    },
    {
     "data": {
      "image/png": "[encoded data removed]",
      "text/plain": [
       "<Figure size 432x288 with 2 Axes>"
      ]
     },
     "metadata": {},
     "output_type": "display_data"
    }
   ],
   "source": [
    "plot_confusion_matrix(metrics.confusion_matrix(y_test, y_test_pred),classes=['0','1']);"
   ]
  },
  {
   "cell_type": "code",
   "execution_count": 80,
   "metadata": {},
   "outputs": [
    {
     "name": "stdout",
     "output_type": "stream",
     "text": [
      "The true positive rate for the logistic regression: 0.8842604140683462\n",
      "\n",
      "The true negative rate for the logistic regression: 0.6291905383175449\n",
      "\n",
      "The false positive rate for the logistic regression: 0.37080946168245504\n",
      "\n",
      "The false negative rate for the logistic regression: 0.11573958593165377\n"
     ]
    }
   ],
   "source": [
    "tn_logreg, fp_logreg, fn_logreg, tp_logreg = metrics.confusion_matrix(y_test, y_test_pred).astype('float').ravel()\n",
    "\n",
    "print(\"The true positive rate for the logistic regression:\",tp_logreg/(tp_logreg + fn_logreg))\n",
    "print(\"\")\n",
    "print(\"The true negative rate for the logistic regression:\",tn_logreg/(tn_logreg + fp_logreg))\n",
    "print(\"\")\n",
    "print(\"The false positive rate for the logistic regression:\",fp_logreg/(fp_logreg + tn_logreg))\n",
    "print(\"\")\n",
    "print(\"The false negative rate for the logistic regression:\",fn_logreg/(tp_logreg + fn_logreg))"
   ]
  },
  {
   "cell_type": "code",
   "execution_count": 81,
   "metadata": {},
   "outputs": [
    {
     "data": {
      "image/png": "[encoded data removed]",
      "text/plain": [
       "<Figure size 864x288 with 1 Axes>"
      ]
     },
     "metadata": {},
     "output_type": "display_data"
    }
   ],
   "source": [
    "fprs_logreg, tprs_logreg, thresh_logreg = metrics.roc_curve(y_test, logreg.predict_proba(x_test)[:,1])\n",
    "y_all_normal = np.zeros(len(y_test))\n",
    "\n",
    "fprs_zeros, tprs_zeros, thresh_zeros = metrics.roc_curve(y_test, y_all_normal)\n",
    "\n",
    "# Plot the ROC curves\n",
    "fig1, ax1 = plt.subplots(1, 1)\n",
    "fig1.set_figwidth(12)\n",
    "\n",
    "ax1.set_title(\"ROC Curve - Logistic Regression\")\n",
    "ax1.plot(fprs_logreg, tprs_logreg, color='blue')\n",
    "ax1.plot([0,1],[0,1], \"--\", color='grey')\n",
    "ax1.set( aspect='equal')\n",
    "ax1.grid(True)\n",
    "ax1.set_xlim(-0.01,1.01), ax1.set_ylim(-0.01,1.01)\n",
    "ax1.set_xlabel(\"False positive rate\"), ax1.set_ylabel(\"True positive rate\");"
   ]
  },
  {
   "cell_type": "code",
   "execution_count": 82,
   "metadata": {},
   "outputs": [
    {
     "name": "stdout",
     "output_type": "stream",
     "text": [
      "Using logistic regression:\n",
      "At FPR=0.0, TPR~0.192, Threshold~0.99991\n",
      "At FPR=0.1, TPR~0.709, Threshold~0.73704\n",
      "At FPR=0.5, TPR~0.929, Threshold~0.43733\n",
      "At FPR=0.9, TPR~0.991, Threshold~0.23512\n",
      "\n",
      "Using all zeroes prediction:\n",
      "At FPR=0.0, TPR~0.000, Threshold~1.00000\n",
      "At FPR=0.1, TPR~0.100, Threshold~0.90000\n",
      "At FPR=0.5, TPR~0.500, Threshold~0.50000\n",
      "At FPR=0.9, TPR~0.900, Threshold~0.10000\n"
     ]
    }
   ],
   "source": [
    "def get_max_tpr(fprs, tprs, thresholds, val):\n",
    "    # First find the closest value index in fprs to val\n",
    "    closest_value = max(i for i,v in enumerate(fprs) if v <= val)\n",
    "    \n",
    "    # Now, use linear interpolation to calculate corresponding tpr, threshold\n",
    "    tpr_out = np.interp(val, \n",
    "                        (fprs[closest_value],fprs[closest_value+1]),\n",
    "                       (tprs[closest_value],tprs[closest_value+1]))\n",
    "    \n",
    "    thresh_out = np.interp(val, \n",
    "                        (fprs[closest_value],fprs[closest_value+1]),\n",
    "                       (thresholds[closest_value],thresholds[closest_value+1]))\n",
    "    \n",
    "    # Now, return the tpr and threshold values at that index\n",
    "    return tpr_out, thresh_out\n",
    "\n",
    "\n",
    "print(\"Using logistic regression:\")\n",
    "for this_fpr in [0, 0.1, 0.5, 0.9]:\n",
    "    this_tpr, this_thresh = get_max_tpr(fprs_logreg, tprs_logreg, thresh_logreg, this_fpr)\n",
    "    print(\"At FPR={:.1f}, TPR~{:.3f}, Threshold~{:.5f}\".format(this_fpr, this_tpr, this_thresh))     \n",
    "print(\"\")\n",
    "print(\"Using all zeroes prediction:\")\n",
    "for this_fpr in [0, 0.1, 0.5, 0.9]:\n",
    "    this_tpr, this_thresh = get_max_tpr(fprs_zeros, tprs_zeros, thresh_zeros, this_fpr)\n",
    "    print(\"At FPR={:.1f}, TPR~{:.3f}, Threshold~{:.5f}\".format(this_fpr, this_tpr, this_thresh)) "
   ]
  },
  {
   "cell_type": "markdown",
   "metadata": {},
   "source": [
    "Evaluation: \n",
    "\n",
    "By introducing class weights, we can **tune the model to the 'strategy'** of the bank officials and also **improve** the model characteristics - see the ROC curve for trade-off between true positive and false positive rates. (if more time, we could even search through a number of best class weight pairs and pick the one which maximizes TPR/FPR tradeoff). **Intuitively, we would like to correctly classify as many instances of people who will default.** Here, at the expense of recall (i.e, now, we will predict more 'good loans' to default), we can boost the precision of the model significantly (i.e., we now have many more people who will default as predicted that they will default) by changing the class weights.\n",
    "\n",
    "More quantitatively, looking at the roc curve and pulling out select values, our model is able to be 92% precise (correctly classify people who will default) if we have false positive rate (do not give loan to people who deserve it) at 50%.\n",
    "\n",
    "-> It is important to discuss the \"risk factors\" with the business key stakeholders before deploying such model. For instance, it is very important to know what percentage of loans the business stakeholders can afford to give out to people who would likely default - keeping in mind that the better the model is in correctly classifying defaults, it would eat up potential additional revenue on loans for people who would have not defaulted, but are now predicted as defaults via the model. These trade-offs can be directly read-off the ROC curve OR tabulated (for easier understanding) as in the cell above.\n",
    "\n"
   ]
  },
  {
   "cell_type": "code",
   "execution_count": null,
   "metadata": {},
   "outputs": [],
   "source": []
  }
 ],
 "metadata": {
  "kernelspec": {
   "display_name": "Python 3",
   "language": "python",
   "name": "python3"
  },
  "language_info": {
   "codemirror_mode": {
    "name": "ipython",
    "version": 3
   },
   "file_extension": ".py",
   "mimetype": "text/x-python",
   "name": "python",
   "nbconvert_exporter": "python",
   "pygments_lexer": "ipython3",
   "version": "3.6.5"
  }
 },
 "nbformat": 4,
 "nbformat_minor": 2
}
