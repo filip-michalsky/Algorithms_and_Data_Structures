{
 "cells": [
  {
   "cell_type": "markdown",
   "metadata": {},
   "source": [
    "## Modelling Lending Club Challenge"
   ]
  },
  {
   "cell_type": "markdown",
   "metadata": {},
   "source": [
    "#### Author: Filip Michalsky, October 22, 2018"
   ]
  },
  {
   "cell_type": "markdown",
   "metadata": {},
   "source": [
    "**Executive Summary**\n",
    "\n",
    "TBD"
   ]
  },
  {
   "cell_type": "code",
   "execution_count": 1,
   "metadata": {},
   "outputs": [
    {
     "data": {
      "text/html": [
       "<script>requirejs.config({paths: { 'plotly': ['https://cdn.plot.ly/plotly-latest.min']},});if(!window.Plotly) {{require(['plotly'],function(plotly) {window.Plotly=plotly;});}}</script>"
      ],
      "text/vnd.plotly.v1+html": [
       "<script>requirejs.config({paths: { 'plotly': ['https://cdn.plot.ly/plotly-latest.min']},});if(!window.Plotly) {{require(['plotly'],function(plotly) {window.Plotly=plotly;});}}</script>"
      ]
     },
     "metadata": {},
     "output_type": "display_data"
    }
   ],
   "source": [
    "# import libraries\n",
    "import numpy as np\n",
    "import pandas as pd\n",
    "import seaborn as sns\n",
    "import matplotlib.pyplot as plt\n",
    "from sklearn.cluster import KMeans\n",
    "%matplotlib inline\n",
    "\n",
    "from plotly.offline import download_plotlyjs, init_notebook_mode, plot, iplot\n",
    "init_notebook_mode(connected=True)\n",
    "import plotly.graph_objs as go"
   ]
  },
  {
   "cell_type": "markdown",
   "metadata": {},
   "source": [
    "## prepare data for modeling"
   ]
  },
  {
   "cell_type": "code",
   "execution_count": 2,
   "metadata": {},
   "outputs": [],
   "source": [
    "# Same as in part 1 of the Challenge, we will pre-process the data"
   ]
  },
  {
   "cell_type": "code",
   "execution_count": null,
   "metadata": {},
   "outputs": [],
   "source": [
    "df_loan = pd.read_csv(\"lending-club-loan-data/loan.csv\",low_memory=False)"
   ]
  },
  {
   "cell_type": "code",
   "execution_count": null,
   "metadata": {},
   "outputs": [],
   "source": [
    "# per instruction, only use these cols \n",
    "cols_keep = ['loan_amnt','funded_amnt','term','int_rate','grade',\\\n",
    "            'annual_inc','issue_d','dti','revol_bal','total_pymnt',\\\n",
    "            'loan_status']"
   ]
  },
  {
   "cell_type": "code",
   "execution_count": null,
   "metadata": {},
   "outputs": [],
   "source": [
    "df_loan.columns;"
   ]
  },
  {
   "cell_type": "code",
   "execution_count": null,
   "metadata": {},
   "outputs": [],
   "source": [
    "df_loan = df_loan.loc[:,cols_keep]"
   ]
  },
  {
   "cell_type": "code",
   "execution_count": null,
   "metadata": {},
   "outputs": [],
   "source": [
    "df_loan.shape"
   ]
  },
  {
   "cell_type": "code",
   "execution_count": null,
   "metadata": {},
   "outputs": [],
   "source": [
    "# Method to impute missing values from continuous variables using k-means clustering\n",
    "def kmeans_missing(X, n_clusters, max_iter=10):\n",
    "\n",
    "    # Initialize missing values to their column means\n",
    "    missing = ~np.isfinite(X)\n",
    "    mu = np.nanmean(X, 0, keepdims=1)\n",
    "    X_hat = np.where(missing, mu, X)\n",
    "\n",
    "    for i in range(max_iter):\n",
    "        if i > 0:\n",
    "            cls = KMeans(n_clusters, init=prev_centroids)\n",
    "        else:\n",
    "            cls = KMeans(n_clusters, n_init=1,n_jobs=-1)\n",
    "\n",
    "        # Perform clustering on the filled-in data\n",
    "        labels = cls.fit_predict(X_hat)\n",
    "        centroids = cls.cluster_centers_\n",
    "\n",
    "        # Fill in the missing values based on their cluster centroids\n",
    "        X_hat[missing] = centroids[labels][missing]\n",
    "\n",
    "        # When the labels have stopped changing then we have converged\n",
    "        if i > 0 and np.all(labels == prev_labels):\n",
    "            break\n",
    "\n",
    "        prev_labels = labels\n",
    "        prev_centroids = cls.cluster_centers_\n",
    "\n",
    "    return X_hat"
   ]
  },
  {
   "cell_type": "code",
   "execution_count": null,
   "metadata": {},
   "outputs": [],
   "source": [
    "df_loan.loc[:,['annual_inc']] = kmeans_missing(df_loan.loc[:,['annual_inc']],n_clusters=10,max_iter=10) # this will only work for numerical columns!"
   ]
  },
  {
   "cell_type": "code",
   "execution_count": null,
   "metadata": {},
   "outputs": [],
   "source": [
    "# ==================================\n",
    "# Column summaries\n",
    "# ==================================\n",
    "#data = train_df\n",
    "\n",
    "def get_meta_data(data):\n",
    "    # Define metrics to be determined for each column\n",
    "    metrics = []\n",
    "    metrics.append(data.dtypes)\n",
    "    metrics.append(data.apply(lambda x: x.nunique(), axis=0))\n",
    "    \n",
    "    metrics.append(data.apply(lambda x: x.isnull().sum(), axis=0))\n",
    "\n",
    "    metrics.append(data.apply(lambda x: (x==\" \").sum(), axis=0))\n",
    "\n",
    "    # Summarize\n",
    "    data_meta = pd.concat(metrics, axis=1)\n",
    "    data_meta.columns = ['data_type', 'count_unique', 'count_null', \n",
    "                         'count_blank']\n",
    "    # we DO NOT WANT TO COUNG BLANK AS MISSING HERE\n",
    "#     data_meta['ppn_missing'] = (data_meta['count_null'] + \n",
    "#                                 data_meta['count_missing_passive'] + \n",
    "#                                 data_meta['count_missing_confirmed'] + \n",
    "#                                 data_meta['count_blank']) / len(data)\n",
    "    data_meta['ppn_missing'] = (data_meta['count_null'] \n",
    "                                ) / len(data)\n",
    "    return data_meta"
   ]
  },
  {
   "cell_type": "code",
   "execution_count": null,
   "metadata": {},
   "outputs": [],
   "source": [
    "meta = get_meta_data(df_loan)\n",
    "meta"
   ]
  },
  {
   "cell_type": "code",
   "execution_count": null,
   "metadata": {},
   "outputs": [],
   "source": [
    "# issue date convert to pandas daretime object\n",
    "df_loan['issue_d']=pd.to_datetime(df_loan['issue_d'])"
   ]
  },
  {
   "cell_type": "code",
   "execution_count": null,
   "metadata": {},
   "outputs": [],
   "source": [
    "# convert to categorical where appropriate\n",
    "cols_categorical = ['term','grade','loan_status']\n",
    "for c in cols_categorical:\n",
    "    df_loan[c] = df_loan[c].astype('category')"
   ]
  },
  {
   "cell_type": "code",
   "execution_count": null,
   "metadata": {},
   "outputs": [],
   "source": [
    "df_loan['issue_year'] = df_loan.issue_d.dt.year"
   ]
  },
  {
   "cell_type": "code",
   "execution_count": null,
   "metadata": {},
   "outputs": [],
   "source": [
    "continuous = [col for col in df_loan.columns if df_loan[col].dtype in ['float64','int64']]"
   ]
  },
  {
   "cell_type": "code",
   "execution_count": null,
   "metadata": {},
   "outputs": [],
   "source": [
    "continuous.remove('issue_year')"
   ]
  },
  {
   "cell_type": "code",
   "execution_count": null,
   "metadata": {},
   "outputs": [],
   "source": [
    "# continuous features\n",
    "continuous"
   ]
  },
  {
   "cell_type": "code",
   "execution_count": 105,
   "metadata": {},
   "outputs": [],
   "source": [
    "categorical = df_loan.columns.difference(continuous+['issue_d'])"
   ]
  },
  {
   "cell_type": "code",
   "execution_count": 106,
   "metadata": {},
   "outputs": [],
   "source": [
    "categorical = categorical.tolist()"
   ]
  },
  {
   "cell_type": "code",
   "execution_count": 107,
   "metadata": {},
   "outputs": [
    {
     "data": {
      "text/plain": [
       "['grade', 'issue_year', 'loan_status', 'term']"
      ]
     },
     "execution_count": 107,
     "metadata": {},
     "output_type": "execute_result"
    }
   ],
   "source": [
    "# categorical features\n",
    "categorical"
   ]
  },
  {
   "cell_type": "markdown",
   "metadata": {},
   "source": [
    "## Create 'default_loan' category as per part 2)"
   ]
  },
  {
   "cell_type": "markdown",
   "metadata": {},
   "source": [
    "Here, we pre-process our data in the same way as in the first part of the Challenge"
   ]
  },
  {
   "cell_type": "code",
   "execution_count": 108,
   "metadata": {},
   "outputs": [
    {
     "data": {
      "text/plain": [
       "' 36 months'"
      ]
     },
     "execution_count": 108,
     "metadata": {},
     "output_type": "execute_result"
    }
   ],
   "source": [
    "df_loan.term.unique()[0]"
   ]
  },
  {
   "cell_type": "code",
   "execution_count": 109,
   "metadata": {},
   "outputs": [],
   "source": [
    "df_loan.term = df_loan.term.apply(lambda x: x.strip(' '))"
   ]
  },
  {
   "cell_type": "code",
   "execution_count": 110,
   "metadata": {},
   "outputs": [],
   "source": [
    "df_36 = df_loan.loc[df_loan.term=='36 months',:]"
   ]
  },
  {
   "cell_type": "code",
   "execution_count": 111,
   "metadata": {},
   "outputs": [
    {
     "data": {
      "text/html": [
       "<div>\n",
       "<style scoped>\n",
       "    .dataframe tbody tr th:only-of-type {\n",
       "        vertical-align: middle;\n",
       "    }\n",
       "\n",
       "    .dataframe tbody tr th {\n",
       "        vertical-align: top;\n",
       "    }\n",
       "\n",
       "    .dataframe thead th {\n",
       "        text-align: right;\n",
       "    }\n",
       "</style>\n",
       "<table border=\"1\" class=\"dataframe\">\n",
       "  <thead>\n",
       "    <tr style=\"text-align: right;\">\n",
       "      <th></th>\n",
       "      <th>loan_amnt</th>\n",
       "      <th>funded_amnt</th>\n",
       "      <th>term</th>\n",
       "      <th>int_rate</th>\n",
       "      <th>grade</th>\n",
       "      <th>annual_inc</th>\n",
       "      <th>issue_d</th>\n",
       "      <th>dti</th>\n",
       "      <th>revol_bal</th>\n",
       "      <th>total_pymnt</th>\n",
       "      <th>loan_status</th>\n",
       "      <th>issue_year</th>\n",
       "    </tr>\n",
       "  </thead>\n",
       "  <tbody>\n",
       "    <tr>\n",
       "      <th>0</th>\n",
       "      <td>5000.0</td>\n",
       "      <td>5000.0</td>\n",
       "      <td>36 months</td>\n",
       "      <td>10.65</td>\n",
       "      <td>B</td>\n",
       "      <td>24000.0</td>\n",
       "      <td>2011-12-01</td>\n",
       "      <td>27.65</td>\n",
       "      <td>13648.0</td>\n",
       "      <td>5861.071414</td>\n",
       "      <td>Fully Paid</td>\n",
       "      <td>2011</td>\n",
       "    </tr>\n",
       "    <tr>\n",
       "      <th>2</th>\n",
       "      <td>2400.0</td>\n",
       "      <td>2400.0</td>\n",
       "      <td>36 months</td>\n",
       "      <td>15.96</td>\n",
       "      <td>C</td>\n",
       "      <td>12252.0</td>\n",
       "      <td>2011-12-01</td>\n",
       "      <td>8.72</td>\n",
       "      <td>2956.0</td>\n",
       "      <td>3003.653644</td>\n",
       "      <td>Fully Paid</td>\n",
       "      <td>2011</td>\n",
       "    </tr>\n",
       "    <tr>\n",
       "      <th>3</th>\n",
       "      <td>10000.0</td>\n",
       "      <td>10000.0</td>\n",
       "      <td>36 months</td>\n",
       "      <td>13.49</td>\n",
       "      <td>C</td>\n",
       "      <td>49200.0</td>\n",
       "      <td>2011-12-01</td>\n",
       "      <td>20.00</td>\n",
       "      <td>5598.0</td>\n",
       "      <td>12226.302212</td>\n",
       "      <td>Fully Paid</td>\n",
       "      <td>2011</td>\n",
       "    </tr>\n",
       "    <tr>\n",
       "      <th>5</th>\n",
       "      <td>5000.0</td>\n",
       "      <td>5000.0</td>\n",
       "      <td>36 months</td>\n",
       "      <td>7.90</td>\n",
       "      <td>A</td>\n",
       "      <td>36000.0</td>\n",
       "      <td>2011-12-01</td>\n",
       "      <td>11.20</td>\n",
       "      <td>7963.0</td>\n",
       "      <td>5631.377753</td>\n",
       "      <td>Fully Paid</td>\n",
       "      <td>2011</td>\n",
       "    </tr>\n",
       "    <tr>\n",
       "      <th>7</th>\n",
       "      <td>3000.0</td>\n",
       "      <td>3000.0</td>\n",
       "      <td>36 months</td>\n",
       "      <td>18.64</td>\n",
       "      <td>E</td>\n",
       "      <td>48000.0</td>\n",
       "      <td>2011-12-01</td>\n",
       "      <td>5.35</td>\n",
       "      <td>8221.0</td>\n",
       "      <td>3938.144334</td>\n",
       "      <td>Fully Paid</td>\n",
       "      <td>2011</td>\n",
       "    </tr>\n",
       "  </tbody>\n",
       "</table>\n",
       "</div>"
      ],
      "text/plain": [
       "   loan_amnt  funded_amnt       term  int_rate grade  annual_inc    issue_d  \\\n",
       "0     5000.0       5000.0  36 months     10.65     B     24000.0 2011-12-01   \n",
       "2     2400.0       2400.0  36 months     15.96     C     12252.0 2011-12-01   \n",
       "3    10000.0      10000.0  36 months     13.49     C     49200.0 2011-12-01   \n",
       "5     5000.0       5000.0  36 months      7.90     A     36000.0 2011-12-01   \n",
       "7     3000.0       3000.0  36 months     18.64     E     48000.0 2011-12-01   \n",
       "\n",
       "     dti  revol_bal   total_pymnt loan_status  issue_year  \n",
       "0  27.65    13648.0   5861.071414  Fully Paid        2011  \n",
       "2   8.72     2956.0   3003.653644  Fully Paid        2011  \n",
       "3  20.00     5598.0  12226.302212  Fully Paid        2011  \n",
       "5  11.20     7963.0   5631.377753  Fully Paid        2011  \n",
       "7   5.35     8221.0   3938.144334  Fully Paid        2011  "
      ]
     },
     "execution_count": 111,
     "metadata": {},
     "output_type": "execute_result"
    }
   ],
   "source": [
    "df_36.head()"
   ]
  },
  {
   "cell_type": "code",
   "execution_count": 112,
   "metadata": {},
   "outputs": [
    {
     "name": "stdout",
     "output_type": "stream",
     "text": [
      "we have 621125 of 36 months term loans available for analysis.\n"
     ]
    }
   ],
   "source": [
    "print(f'we have {df_36.shape[0]} of 36 months term loans available for analysis.')"
   ]
  },
  {
   "cell_type": "markdown",
   "metadata": {},
   "source": [
    "Exclude loans with less than 36 months of data available:\n",
    "\n",
    "I look at the latest date in the dataset and assume that is the most 'current date'\n",
    "\n",
    "Then I exlude loans which were issued after (maximum_date - 36 months) to get only loans with 36 months or more worth of data"
   ]
  },
  {
   "cell_type": "code",
   "execution_count": 113,
   "metadata": {},
   "outputs": [
    {
     "name": "stdout",
     "output_type": "stream",
     "text": [
      "Exclude loans issued after 2013-02-26 00:00:00\n"
     ]
    }
   ],
   "source": [
    "cutoff_date = np.max(df_36.issue_d) - pd.Timedelta(weeks=36*4)\n",
    "print(f'Exclude loans issued after {cutoff_date}')"
   ]
  },
  {
   "cell_type": "code",
   "execution_count": 114,
   "metadata": {},
   "outputs": [],
   "source": [
    "df_36 = df_36.loc[df_36.issue_d<=cutoff_date,:]"
   ]
  },
  {
   "cell_type": "code",
   "execution_count": 115,
   "metadata": {},
   "outputs": [
    {
     "name": "stdout",
     "output_type": "stream",
     "text": [
      "Latest loan with 36 months worth of data in current dataset issued on 2013-02-01 00:00:00\n"
     ]
    }
   ],
   "source": [
    "print(f'Latest loan with 36 months worth of data in current dataset issued on {df_36.issue_d.max()}')"
   ]
  },
  {
   "cell_type": "code",
   "execution_count": null,
   "metadata": {},
   "outputs": [],
   "source": []
  },
  {
   "cell_type": "code",
   "execution_count": 116,
   "metadata": {},
   "outputs": [],
   "source": [
    "# cast df to old namespace\n",
    "import gc\n",
    "del df_loan\n",
    "gc.collect() # clean memory (python garbage collector)\n",
    "df_loan = df_36.copy(deep=True)"
   ]
  },
  {
   "cell_type": "code",
   "execution_count": 118,
   "metadata": {},
   "outputs": [
    {
     "data": {
      "text/plain": [
       "36 months    86552\n",
       "60 months        0\n",
       "Name: term, dtype: int64"
      ]
     },
     "execution_count": 118,
     "metadata": {},
     "output_type": "execute_result"
    }
   ],
   "source": [
    "df_loan.term.value_counts()"
   ]
  },
  {
   "cell_type": "code",
   "execution_count": 119,
   "metadata": {},
   "outputs": [],
   "source": [
    "# drop term since we are only looking at 36 months loans\n",
    "df_loan = df_loan.drop('term',axis=1)"
   ]
  },
  {
   "cell_type": "code",
   "execution_count": 120,
   "metadata": {},
   "outputs": [],
   "source": [
    "## create feature indicating whether loan defaulted or not\n",
    "# convert loan status to binary good/bad loans\n",
    "\n",
    "fully_paid = [\"Fully Paid\"]\n",
    "\n",
    "df_loan['defaulted_loan'] = np.nan\n",
    "\n",
    "def loan_condition(status):\n",
    "    if status in fully_paid:\n",
    "        return 'Paid'\n",
    "    else:\n",
    "        return 'Defaulted'\n",
    "    \n",
    "    \n",
    "df_loan['defaulted_loan'] = df_loan['loan_status'].apply(loan_condition)\n",
    "\n",
    "df_loan[\"defaulted_loan_int\"] = df_loan[\"defaulted_loan\"].apply(lambda x: 0 if x== 'Paid' else 1)"
   ]
  },
  {
   "cell_type": "code",
   "execution_count": 121,
   "metadata": {},
   "outputs": [
    {
     "name": "stdout",
     "output_type": "stream",
     "text": [
      "Percentage of loans fully paid: 81.5%\n"
     ]
    }
   ],
   "source": [
    "print(f'Percentage of loans fully paid: {np.round(df_loan.loan_status[df_loan.loan_status==\"Fully Paid\"].count()/df_loan.loan_status.count(),3)*100}%')"
   ]
  },
  {
   "cell_type": "code",
   "execution_count": 122,
   "metadata": {},
   "outputs": [
    {
     "data": {
      "text/html": [
       "<div>\n",
       "<style scoped>\n",
       "    .dataframe tbody tr th:only-of-type {\n",
       "        vertical-align: middle;\n",
       "    }\n",
       "\n",
       "    .dataframe tbody tr th {\n",
       "        vertical-align: top;\n",
       "    }\n",
       "\n",
       "    .dataframe thead th {\n",
       "        text-align: right;\n",
       "    }\n",
       "</style>\n",
       "<table border=\"1\" class=\"dataframe\">\n",
       "  <thead>\n",
       "    <tr style=\"text-align: right;\">\n",
       "      <th></th>\n",
       "      <th>loan_amnt</th>\n",
       "      <th>funded_amnt</th>\n",
       "      <th>int_rate</th>\n",
       "      <th>grade</th>\n",
       "      <th>annual_inc</th>\n",
       "      <th>issue_d</th>\n",
       "      <th>dti</th>\n",
       "      <th>revol_bal</th>\n",
       "      <th>total_pymnt</th>\n",
       "      <th>loan_status</th>\n",
       "      <th>issue_year</th>\n",
       "      <th>defaulted_loan</th>\n",
       "      <th>defaulted_loan_int</th>\n",
       "    </tr>\n",
       "  </thead>\n",
       "  <tbody>\n",
       "    <tr>\n",
       "      <th>0</th>\n",
       "      <td>5000.0</td>\n",
       "      <td>5000.0</td>\n",
       "      <td>10.65</td>\n",
       "      <td>B</td>\n",
       "      <td>24000.0</td>\n",
       "      <td>2011-12-01</td>\n",
       "      <td>27.65</td>\n",
       "      <td>13648.0</td>\n",
       "      <td>5861.071414</td>\n",
       "      <td>Fully Paid</td>\n",
       "      <td>2011</td>\n",
       "      <td>Paid</td>\n",
       "      <td>0</td>\n",
       "    </tr>\n",
       "    <tr>\n",
       "      <th>2</th>\n",
       "      <td>2400.0</td>\n",
       "      <td>2400.0</td>\n",
       "      <td>15.96</td>\n",
       "      <td>C</td>\n",
       "      <td>12252.0</td>\n",
       "      <td>2011-12-01</td>\n",
       "      <td>8.72</td>\n",
       "      <td>2956.0</td>\n",
       "      <td>3003.653644</td>\n",
       "      <td>Fully Paid</td>\n",
       "      <td>2011</td>\n",
       "      <td>Paid</td>\n",
       "      <td>0</td>\n",
       "    </tr>\n",
       "    <tr>\n",
       "      <th>3</th>\n",
       "      <td>10000.0</td>\n",
       "      <td>10000.0</td>\n",
       "      <td>13.49</td>\n",
       "      <td>C</td>\n",
       "      <td>49200.0</td>\n",
       "      <td>2011-12-01</td>\n",
       "      <td>20.00</td>\n",
       "      <td>5598.0</td>\n",
       "      <td>12226.302212</td>\n",
       "      <td>Fully Paid</td>\n",
       "      <td>2011</td>\n",
       "      <td>Paid</td>\n",
       "      <td>0</td>\n",
       "    </tr>\n",
       "    <tr>\n",
       "      <th>5</th>\n",
       "      <td>5000.0</td>\n",
       "      <td>5000.0</td>\n",
       "      <td>7.90</td>\n",
       "      <td>A</td>\n",
       "      <td>36000.0</td>\n",
       "      <td>2011-12-01</td>\n",
       "      <td>11.20</td>\n",
       "      <td>7963.0</td>\n",
       "      <td>5631.377753</td>\n",
       "      <td>Fully Paid</td>\n",
       "      <td>2011</td>\n",
       "      <td>Paid</td>\n",
       "      <td>0</td>\n",
       "    </tr>\n",
       "    <tr>\n",
       "      <th>7</th>\n",
       "      <td>3000.0</td>\n",
       "      <td>3000.0</td>\n",
       "      <td>18.64</td>\n",
       "      <td>E</td>\n",
       "      <td>48000.0</td>\n",
       "      <td>2011-12-01</td>\n",
       "      <td>5.35</td>\n",
       "      <td>8221.0</td>\n",
       "      <td>3938.144334</td>\n",
       "      <td>Fully Paid</td>\n",
       "      <td>2011</td>\n",
       "      <td>Paid</td>\n",
       "      <td>0</td>\n",
       "    </tr>\n",
       "  </tbody>\n",
       "</table>\n",
       "</div>"
      ],
      "text/plain": [
       "   loan_amnt  funded_amnt  int_rate grade  annual_inc    issue_d    dti  \\\n",
       "0     5000.0       5000.0     10.65     B     24000.0 2011-12-01  27.65   \n",
       "2     2400.0       2400.0     15.96     C     12252.0 2011-12-01   8.72   \n",
       "3    10000.0      10000.0     13.49     C     49200.0 2011-12-01  20.00   \n",
       "5     5000.0       5000.0      7.90     A     36000.0 2011-12-01  11.20   \n",
       "7     3000.0       3000.0     18.64     E     48000.0 2011-12-01   5.35   \n",
       "\n",
       "   revol_bal   total_pymnt loan_status  issue_year defaulted_loan  \\\n",
       "0    13648.0   5861.071414  Fully Paid        2011           Paid   \n",
       "2     2956.0   3003.653644  Fully Paid        2011           Paid   \n",
       "3     5598.0  12226.302212  Fully Paid        2011           Paid   \n",
       "5     7963.0   5631.377753  Fully Paid        2011           Paid   \n",
       "7     8221.0   3938.144334  Fully Paid        2011           Paid   \n",
       "\n",
       "   defaulted_loan_int  \n",
       "0                   0  \n",
       "2                   0  \n",
       "3                   0  \n",
       "5                   0  \n",
       "7                   0  "
      ]
     },
     "execution_count": 122,
     "metadata": {},
     "output_type": "execute_result"
    }
   ],
   "source": [
    "df_loan.head()"
   ]
  },
  {
   "cell_type": "code",
   "execution_count": 33,
   "metadata": {},
   "outputs": [],
   "source": [
    "# look at correlations in the data set"
   ]
  },
  {
   "cell_type": "code",
   "execution_count": 123,
   "metadata": {},
   "outputs": [
    {
     "data": {
      "application/vnd.plotly.v1+json": {
       "data": [
        {
         "colorbar": {
          "tickmode": "array",
          "ticks": "outside",
          "ticktext": [
           "Negative Correlation",
           "Low Correlation",
           "Positive Correlation"
          ],
          "tickvals": [
           -0.52,
           0.2,
           0.95
          ],
          "title": "Level of Correlation",
          "titleside": "top"
         },
         "colorscale": [
          [
           0,
           "rgb(165,0,38)"
          ],
          [
           0.1111111111111111,
           "rgb(215,48,39)"
          ],
          [
           0.2222222222222222,
           "rgb(244,109,67)"
          ],
          [
           0.3333333333333333,
           "rgb(253,174,97)"
          ],
          [
           0.4444444444444444,
           "rgb(254,224,144)"
          ],
          [
           0.5555555555555556,
           "rgb(224,243,248)"
          ],
          [
           0.6666666666666666,
           "rgb(171,217,233)"
          ],
          [
           0.7777777777777778,
           "rgb(116,173,209)"
          ],
          [
           0.8888888888888888,
           "rgb(69,117,180)"
          ],
          [
           1,
           "rgb(49,54,149)"
          ]
         ],
         "type": "heatmap",
         "x": [
          "loan_amnt",
          "funded_amnt",
          "int_rate",
          "annual_inc",
          "dti",
          "revol_bal",
          "total_pymnt",
          "issue_year",
          "defaulted_loan_int"
         ],
         "y": [
          "loan_amnt",
          "funded_amnt",
          "int_rate",
          "annual_inc",
          "dti",
          "revol_bal",
          "total_pymnt",
          "issue_year",
          "defaulted_loan_int"
         ],
         "z": [
          [
           1,
           0.9964788718925972,
           0.12817097045908665,
           0.28681111135600723,
           0.056332463072979,
           0.2819049853331825,
           0.9302921069879976,
           0.1756829040406365,
           0.014823177198094
          ],
          [
           0.9964788718925972,
           1,
           0.1323680537386615,
           0.28541917467096556,
           0.058582609721734846,
           0.2799151381142229,
           0.9337717994371837,
           0.18712259762959188,
           0.014704962089314919
          ],
          [
           0.12817097045908665,
           0.1323680537386615,
           1,
           -0.023285325173495717,
           0.17077969384460367,
           0.026554061898408195,
           0.14677149895062896,
           0.12824164959372145,
           0.1764632393023287
          ],
          [
           0.28681111135600723,
           0.28541917467096556,
           -0.023285325173495717,
           1,
           -0.14419257438996883,
           0.2990785927942721,
           0.2744857691897389,
           0.014439613125887563,
           -0.02989722282567745
          ],
          [
           0.056332463072979,
           0.058582609721734846,
           0.17077969384460367,
           -0.14419257438996883,
           1,
           0.16252385341108963,
           0.056701789721726174,
           0.21272701353675713,
           0.06762852385684047
          ],
          [
           0.2819049853331825,
           0.2799151381142229,
           0.026554061898408195,
           0.2990785927942721,
           0.16252385341108963,
           1,
           0.25960345597131806,
           0.006630635725148608,
           0.05414702811939326
          ],
          [
           0.9302921069879976,
           0.9337717994371837,
           0.14677149895062896,
           0.2744857691897389,
           0.056701789721726174,
           0.25960345597131806,
           1,
           0.18487071580238,
           -0.18637418168248773
          ],
          [
           0.1756829040406365,
           0.18712259762959188,
           0.12824164959372145,
           0.014439613125887563,
           0.21272701353675713,
           0.006630635725148608,
           0.18487071580238,
           1,
           -0.019395456606176423
          ],
          [
           0.014823177198094,
           0.014704962089314919,
           0.1764632393023287,
           -0.02989722282567745,
           0.06762852385684047,
           0.05414702811939326,
           -0.18637418168248773,
           -0.019395456606176423,
           1
          ]
         ]
        }
       ],
       "layout": {
        "title": "Correlation Heatmap"
       }
      },
      "text/html": [
       "<div id=\"04e35f7c-b35b-4999-9f48-932fde30aada\" style=\"height: 525px; width: 100%;\" class=\"plotly-graph-div\"></div><script type=\"text/javascript\">require([\"plotly\"], function(Plotly) { window.PLOTLYENV=window.PLOTLYENV || {};window.PLOTLYENV.BASE_URL=\"https://plot.ly\";Plotly.newPlot(\"04e35f7c-b35b-4999-9f48-932fde30aada\", [{\"type\": \"heatmap\", \"z\": [[1.0, 0.9964788718925972, 0.12817097045908665, 0.28681111135600723, 0.056332463072979, 0.2819049853331825, 0.9302921069879976, 0.1756829040406365, 0.014823177198094], [0.9964788718925972, 1.0, 0.1323680537386615, 0.28541917467096556, 0.058582609721734846, 0.2799151381142229, 0.9337717994371837, 0.18712259762959188, 0.014704962089314919], [0.12817097045908665, 0.1323680537386615, 1.0, -0.023285325173495717, 0.17077969384460367, 0.026554061898408195, 0.14677149895062896, 0.12824164959372145, 0.1764632393023287], [0.28681111135600723, 0.28541917467096556, -0.023285325173495717, 1.0, -0.14419257438996883, 0.2990785927942721, 0.2744857691897389, 0.014439613125887563, -0.02989722282567745], [0.056332463072979, 0.058582609721734846, 0.17077969384460367, -0.14419257438996883, 1.0, 0.16252385341108963, 0.056701789721726174, 0.21272701353675713, 0.06762852385684047], [0.2819049853331825, 0.2799151381142229, 0.026554061898408195, 0.2990785927942721, 0.16252385341108963, 1.0, 0.25960345597131806, 0.006630635725148608, 0.05414702811939326], [0.9302921069879976, 0.9337717994371837, 0.14677149895062896, 0.2744857691897389, 0.056701789721726174, 0.25960345597131806, 1.0, 0.18487071580238, -0.18637418168248773], [0.1756829040406365, 0.18712259762959188, 0.12824164959372145, 0.014439613125887563, 0.21272701353675713, 0.006630635725148608, 0.18487071580238, 1.0, -0.019395456606176423], [0.014823177198094, 0.014704962089314919, 0.1764632393023287, -0.02989722282567745, 0.06762852385684047, 0.05414702811939326, -0.18637418168248773, -0.019395456606176423, 1.0]], \"x\": [\"loan_amnt\", \"funded_amnt\", \"int_rate\", \"annual_inc\", \"dti\", \"revol_bal\", \"total_pymnt\", \"issue_year\", \"defaulted_loan_int\"], \"y\": [\"loan_amnt\", \"funded_amnt\", \"int_rate\", \"annual_inc\", \"dti\", \"revol_bal\", \"total_pymnt\", \"issue_year\", \"defaulted_loan_int\"], \"colorscale\": [[0.0, \"rgb(165,0,38)\"], [0.1111111111111111, \"rgb(215,48,39)\"], [0.2222222222222222, \"rgb(244,109,67)\"], [0.3333333333333333, \"rgb(253,174,97)\"], [0.4444444444444444, \"rgb(254,224,144)\"], [0.5555555555555556, \"rgb(224,243,248)\"], [0.6666666666666666, \"rgb(171,217,233)\"], [0.7777777777777778, \"rgb(116,173,209)\"], [0.8888888888888888, \"rgb(69,117,180)\"], [1.0, \"rgb(49,54,149)\"]], \"colorbar\": {\"title\": \"Level of Correlation\", \"titleside\": \"top\", \"tickmode\": \"array\", \"tickvals\": [-0.52, 0.2, 0.95], \"ticktext\": [\"Negative Correlation\", \"Low Correlation\", \"Positive Correlation\"], \"ticks\": \"outside\"}}], {\"title\": \"Correlation Heatmap\"}, {\"showLink\": true, \"linkText\": \"Export to plot.ly\"})});</script>"
      ],
      "text/vnd.plotly.v1+html": [
       "<div id=\"04e35f7c-b35b-4999-9f48-932fde30aada\" style=\"height: 525px; width: 100%;\" class=\"plotly-graph-div\"></div><script type=\"text/javascript\">require([\"plotly\"], function(Plotly) { window.PLOTLYENV=window.PLOTLYENV || {};window.PLOTLYENV.BASE_URL=\"https://plot.ly\";Plotly.newPlot(\"04e35f7c-b35b-4999-9f48-932fde30aada\", [{\"type\": \"heatmap\", \"z\": [[1.0, 0.9964788718925972, 0.12817097045908665, 0.28681111135600723, 0.056332463072979, 0.2819049853331825, 0.9302921069879976, 0.1756829040406365, 0.014823177198094], [0.9964788718925972, 1.0, 0.1323680537386615, 0.28541917467096556, 0.058582609721734846, 0.2799151381142229, 0.9337717994371837, 0.18712259762959188, 0.014704962089314919], [0.12817097045908665, 0.1323680537386615, 1.0, -0.023285325173495717, 0.17077969384460367, 0.026554061898408195, 0.14677149895062896, 0.12824164959372145, 0.1764632393023287], [0.28681111135600723, 0.28541917467096556, -0.023285325173495717, 1.0, -0.14419257438996883, 0.2990785927942721, 0.2744857691897389, 0.014439613125887563, -0.02989722282567745], [0.056332463072979, 0.058582609721734846, 0.17077969384460367, -0.14419257438996883, 1.0, 0.16252385341108963, 0.056701789721726174, 0.21272701353675713, 0.06762852385684047], [0.2819049853331825, 0.2799151381142229, 0.026554061898408195, 0.2990785927942721, 0.16252385341108963, 1.0, 0.25960345597131806, 0.006630635725148608, 0.05414702811939326], [0.9302921069879976, 0.9337717994371837, 0.14677149895062896, 0.2744857691897389, 0.056701789721726174, 0.25960345597131806, 1.0, 0.18487071580238, -0.18637418168248773], [0.1756829040406365, 0.18712259762959188, 0.12824164959372145, 0.014439613125887563, 0.21272701353675713, 0.006630635725148608, 0.18487071580238, 1.0, -0.019395456606176423], [0.014823177198094, 0.014704962089314919, 0.1764632393023287, -0.02989722282567745, 0.06762852385684047, 0.05414702811939326, -0.18637418168248773, -0.019395456606176423, 1.0]], \"x\": [\"loan_amnt\", \"funded_amnt\", \"int_rate\", \"annual_inc\", \"dti\", \"revol_bal\", \"total_pymnt\", \"issue_year\", \"defaulted_loan_int\"], \"y\": [\"loan_amnt\", \"funded_amnt\", \"int_rate\", \"annual_inc\", \"dti\", \"revol_bal\", \"total_pymnt\", \"issue_year\", \"defaulted_loan_int\"], \"colorscale\": [[0.0, \"rgb(165,0,38)\"], [0.1111111111111111, \"rgb(215,48,39)\"], [0.2222222222222222, \"rgb(244,109,67)\"], [0.3333333333333333, \"rgb(253,174,97)\"], [0.4444444444444444, \"rgb(254,224,144)\"], [0.5555555555555556, \"rgb(224,243,248)\"], [0.6666666666666666, \"rgb(171,217,233)\"], [0.7777777777777778, \"rgb(116,173,209)\"], [0.8888888888888888, \"rgb(69,117,180)\"], [1.0, \"rgb(49,54,149)\"]], \"colorbar\": {\"title\": \"Level of Correlation\", \"titleside\": \"top\", \"tickmode\": \"array\", \"tickvals\": [-0.52, 0.2, 0.95], \"ticktext\": [\"Negative Correlation\", \"Low Correlation\", \"Positive Correlation\"], \"ticks\": \"outside\"}}], {\"title\": \"Correlation Heatmap\"}, {\"showLink\": true, \"linkText\": \"Export to plot.ly\"})});</script>"
      ]
     },
     "metadata": {},
     "output_type": "display_data"
    }
   ],
   "source": [
    "df_correlations = df_loan.corr()\n",
    "\n",
    "\n",
    "trace = go.Heatmap(z=df_correlations.values,\n",
    "                   x=df_correlations.columns,\n",
    "                   y=df_correlations.columns,\n",
    "                  colorscale=[[0.0, 'rgb(165,0,38)'], \n",
    "                              [0.1111111111111111, 'rgb(215,48,39)'], \n",
    "                              [0.2222222222222222, 'rgb(244,109,67)'], \n",
    "                              [0.3333333333333333, 'rgb(253,174,97)'], \n",
    "                              [0.4444444444444444, 'rgb(254,224,144)'], \n",
    "                              [0.5555555555555556, 'rgb(224,243,248)'], \n",
    "                              [0.6666666666666666, 'rgb(171,217,233)'], \n",
    "                              [0.7777777777777778, 'rgb(116,173,209)'], \n",
    "                              [0.8888888888888888, 'rgb(69,117,180)'], \n",
    "                              [1.0, 'rgb(49,54,149)']],\n",
    "            colorbar = dict(\n",
    "            title = 'Level of Correlation',\n",
    "            titleside = 'top',\n",
    "            tickmode = 'array',\n",
    "            tickvals = [-0.52,0.2,0.95],\n",
    "            ticktext = ['Negative Correlation','Low Correlation','Positive Correlation'],\n",
    "            ticks = 'outside'\n",
    "        )\n",
    "                  )\n",
    "\n",
    "\n",
    "layout = {\"title\": \"Correlation Heatmap\"}\n",
    "data=[trace]\n",
    "\n",
    "fig = dict(data=data, layout=layout)\n",
    "iplot(fig, filename='labelled-heatmap')"
   ]
  },
  {
   "cell_type": "markdown",
   "metadata": {},
   "source": [
    "funded_amnt and loan_amnt suffer from collinearity! We will need to address that (at least) via regularization of our model.\n",
    "\n",
    "As expected, the default status is strongly negatively correlated with total payment made on the loan."
   ]
  },
  {
   "cell_type": "code",
   "execution_count": 124,
   "metadata": {},
   "outputs": [],
   "source": [
    "df_loan['diff_loan_funded']= df_36.loan_amnt.values-df_loan.funded_amnt.values"
   ]
  },
  {
   "cell_type": "code",
   "execution_count": 125,
   "metadata": {},
   "outputs": [
    {
     "name": "stdout",
     "output_type": "stream",
     "text": [
      "There is only 871 loans which had a difference between loan amnt and funded amount.\n"
     ]
    }
   ],
   "source": [
    "print(f'There is only {sum(df_loan[\"diff_loan_funded\"]>0)} loans which had a difference between loan amnt and funded amount.')"
   ]
  },
  {
   "cell_type": "code",
   "execution_count": 126,
   "metadata": {},
   "outputs": [
    {
     "data": {
      "text/plain": [
       "Index(['loan_amnt', 'funded_amnt', 'int_rate', 'grade', 'annual_inc',\n",
       "       'issue_d', 'dti', 'revol_bal', 'total_pymnt', 'loan_status',\n",
       "       'issue_year', 'defaulted_loan', 'defaulted_loan_int',\n",
       "       'diff_loan_funded'],\n",
       "      dtype='object')"
      ]
     },
     "execution_count": 126,
     "metadata": {},
     "output_type": "execute_result"
    }
   ],
   "source": [
    "df_loan.columns"
   ]
  },
  {
   "cell_type": "code",
   "execution_count": 127,
   "metadata": {},
   "outputs": [],
   "source": [
    "# drop cols we will not use\n",
    "# date (we will only use year)\n",
    "df_loan.drop(['loan_status','defaulted_loan','diff_loan_funded','issue_d'],axis=1,inplace=True)\n"
   ]
  },
  {
   "cell_type": "code",
   "execution_count": 128,
   "metadata": {},
   "outputs": [
    {
     "data": {
      "text/html": [
       "<div>\n",
       "<style scoped>\n",
       "    .dataframe tbody tr th:only-of-type {\n",
       "        vertical-align: middle;\n",
       "    }\n",
       "\n",
       "    .dataframe tbody tr th {\n",
       "        vertical-align: top;\n",
       "    }\n",
       "\n",
       "    .dataframe thead th {\n",
       "        text-align: right;\n",
       "    }\n",
       "</style>\n",
       "<table border=\"1\" class=\"dataframe\">\n",
       "  <thead>\n",
       "    <tr style=\"text-align: right;\">\n",
       "      <th></th>\n",
       "      <th>loan_amnt</th>\n",
       "      <th>funded_amnt</th>\n",
       "      <th>int_rate</th>\n",
       "      <th>grade</th>\n",
       "      <th>annual_inc</th>\n",
       "      <th>dti</th>\n",
       "      <th>revol_bal</th>\n",
       "      <th>total_pymnt</th>\n",
       "      <th>issue_year</th>\n",
       "      <th>defaulted_loan_int</th>\n",
       "    </tr>\n",
       "  </thead>\n",
       "  <tbody>\n",
       "    <tr>\n",
       "      <th>0</th>\n",
       "      <td>5000.0</td>\n",
       "      <td>5000.0</td>\n",
       "      <td>10.65</td>\n",
       "      <td>B</td>\n",
       "      <td>24000.0</td>\n",
       "      <td>27.65</td>\n",
       "      <td>13648.0</td>\n",
       "      <td>5861.071414</td>\n",
       "      <td>2011</td>\n",
       "      <td>0</td>\n",
       "    </tr>\n",
       "    <tr>\n",
       "      <th>2</th>\n",
       "      <td>2400.0</td>\n",
       "      <td>2400.0</td>\n",
       "      <td>15.96</td>\n",
       "      <td>C</td>\n",
       "      <td>12252.0</td>\n",
       "      <td>8.72</td>\n",
       "      <td>2956.0</td>\n",
       "      <td>3003.653644</td>\n",
       "      <td>2011</td>\n",
       "      <td>0</td>\n",
       "    </tr>\n",
       "    <tr>\n",
       "      <th>3</th>\n",
       "      <td>10000.0</td>\n",
       "      <td>10000.0</td>\n",
       "      <td>13.49</td>\n",
       "      <td>C</td>\n",
       "      <td>49200.0</td>\n",
       "      <td>20.00</td>\n",
       "      <td>5598.0</td>\n",
       "      <td>12226.302212</td>\n",
       "      <td>2011</td>\n",
       "      <td>0</td>\n",
       "    </tr>\n",
       "    <tr>\n",
       "      <th>5</th>\n",
       "      <td>5000.0</td>\n",
       "      <td>5000.0</td>\n",
       "      <td>7.90</td>\n",
       "      <td>A</td>\n",
       "      <td>36000.0</td>\n",
       "      <td>11.20</td>\n",
       "      <td>7963.0</td>\n",
       "      <td>5631.377753</td>\n",
       "      <td>2011</td>\n",
       "      <td>0</td>\n",
       "    </tr>\n",
       "    <tr>\n",
       "      <th>7</th>\n",
       "      <td>3000.0</td>\n",
       "      <td>3000.0</td>\n",
       "      <td>18.64</td>\n",
       "      <td>E</td>\n",
       "      <td>48000.0</td>\n",
       "      <td>5.35</td>\n",
       "      <td>8221.0</td>\n",
       "      <td>3938.144334</td>\n",
       "      <td>2011</td>\n",
       "      <td>0</td>\n",
       "    </tr>\n",
       "  </tbody>\n",
       "</table>\n",
       "</div>"
      ],
      "text/plain": [
       "   loan_amnt  funded_amnt  int_rate grade  annual_inc    dti  revol_bal  \\\n",
       "0     5000.0       5000.0     10.65     B     24000.0  27.65    13648.0   \n",
       "2     2400.0       2400.0     15.96     C     12252.0   8.72     2956.0   \n",
       "3    10000.0      10000.0     13.49     C     49200.0  20.00     5598.0   \n",
       "5     5000.0       5000.0      7.90     A     36000.0  11.20     7963.0   \n",
       "7     3000.0       3000.0     18.64     E     48000.0   5.35     8221.0   \n",
       "\n",
       "    total_pymnt  issue_year  defaulted_loan_int  \n",
       "0   5861.071414        2011                   0  \n",
       "2   3003.653644        2011                   0  \n",
       "3  12226.302212        2011                   0  \n",
       "5   5631.377753        2011                   0  \n",
       "7   3938.144334        2011                   0  "
      ]
     },
     "execution_count": 128,
     "metadata": {},
     "output_type": "execute_result"
    }
   ],
   "source": [
    "df_loan.head()"
   ]
  },
  {
   "cell_type": "code",
   "execution_count": 184,
   "metadata": {},
   "outputs": [],
   "source": [
    "df_loan['defaulted_loan_int'] = df_loan['defaulted_loan_int'].astype('category')\n",
    "'''\n",
    "note : including issue_year as a feature might be problematic from a business standpoint,\n",
    "as we would like to predict on new loans in the future - thus, I decided to drop the year\n",
    "'''\n",
    "df_loan.drop('issue_year',axis=1,inplace=True)\n",
    "#df_loan['issue_year'] = df_loan['issue_year'].astype('category')"
   ]
  },
  {
   "cell_type": "code",
   "execution_count": 185,
   "metadata": {},
   "outputs": [
    {
     "data": {
      "text/plain": [
       "loan_amnt              float64\n",
       "funded_amnt            float64\n",
       "int_rate               float64\n",
       "grade                 category\n",
       "annual_inc             float64\n",
       "dti                    float64\n",
       "revol_bal              float64\n",
       "total_pymnt            float64\n",
       "defaulted_loan_int    category\n",
       "dtype: object"
      ]
     },
     "execution_count": 185,
     "metadata": {},
     "output_type": "execute_result"
    }
   ],
   "source": [
    "df_loan.dtypes"
   ]
  },
  {
   "cell_type": "code",
   "execution_count": 186,
   "metadata": {},
   "outputs": [
    {
     "data": {
      "text/html": [
       "<div>\n",
       "<style scoped>\n",
       "    .dataframe tbody tr th:only-of-type {\n",
       "        vertical-align: middle;\n",
       "    }\n",
       "\n",
       "    .dataframe tbody tr th {\n",
       "        vertical-align: top;\n",
       "    }\n",
       "\n",
       "    .dataframe thead th {\n",
       "        text-align: right;\n",
       "    }\n",
       "</style>\n",
       "<table border=\"1\" class=\"dataframe\">\n",
       "  <thead>\n",
       "    <tr style=\"text-align: right;\">\n",
       "      <th></th>\n",
       "      <th>loan_amnt</th>\n",
       "      <th>funded_amnt</th>\n",
       "      <th>int_rate</th>\n",
       "      <th>annual_inc</th>\n",
       "      <th>dti</th>\n",
       "      <th>revol_bal</th>\n",
       "      <th>total_pymnt</th>\n",
       "    </tr>\n",
       "  </thead>\n",
       "  <tbody>\n",
       "    <tr>\n",
       "      <th>0</th>\n",
       "      <td>5000.0</td>\n",
       "      <td>5000.0</td>\n",
       "      <td>10.65</td>\n",
       "      <td>24000.0</td>\n",
       "      <td>27.65</td>\n",
       "      <td>13648.0</td>\n",
       "      <td>5861.071414</td>\n",
       "    </tr>\n",
       "    <tr>\n",
       "      <th>2</th>\n",
       "      <td>2400.0</td>\n",
       "      <td>2400.0</td>\n",
       "      <td>15.96</td>\n",
       "      <td>12252.0</td>\n",
       "      <td>8.72</td>\n",
       "      <td>2956.0</td>\n",
       "      <td>3003.653644</td>\n",
       "    </tr>\n",
       "    <tr>\n",
       "      <th>3</th>\n",
       "      <td>10000.0</td>\n",
       "      <td>10000.0</td>\n",
       "      <td>13.49</td>\n",
       "      <td>49200.0</td>\n",
       "      <td>20.00</td>\n",
       "      <td>5598.0</td>\n",
       "      <td>12226.302212</td>\n",
       "    </tr>\n",
       "    <tr>\n",
       "      <th>5</th>\n",
       "      <td>5000.0</td>\n",
       "      <td>5000.0</td>\n",
       "      <td>7.90</td>\n",
       "      <td>36000.0</td>\n",
       "      <td>11.20</td>\n",
       "      <td>7963.0</td>\n",
       "      <td>5631.377753</td>\n",
       "    </tr>\n",
       "    <tr>\n",
       "      <th>7</th>\n",
       "      <td>3000.0</td>\n",
       "      <td>3000.0</td>\n",
       "      <td>18.64</td>\n",
       "      <td>48000.0</td>\n",
       "      <td>5.35</td>\n",
       "      <td>8221.0</td>\n",
       "      <td>3938.144334</td>\n",
       "    </tr>\n",
       "  </tbody>\n",
       "</table>\n",
       "</div>"
      ],
      "text/plain": [
       "   loan_amnt  funded_amnt  int_rate  annual_inc    dti  revol_bal  \\\n",
       "0     5000.0       5000.0     10.65     24000.0  27.65    13648.0   \n",
       "2     2400.0       2400.0     15.96     12252.0   8.72     2956.0   \n",
       "3    10000.0      10000.0     13.49     49200.0  20.00     5598.0   \n",
       "5     5000.0       5000.0      7.90     36000.0  11.20     7963.0   \n",
       "7     3000.0       3000.0     18.64     48000.0   5.35     8221.0   \n",
       "\n",
       "    total_pymnt  \n",
       "0   5861.071414  \n",
       "2   3003.653644  \n",
       "3  12226.302212  \n",
       "5   5631.377753  \n",
       "7   3938.144334  "
      ]
     },
     "execution_count": 186,
     "metadata": {},
     "output_type": "execute_result"
    }
   ],
   "source": [
    "# standardize continuous variables and get dummies for categorical\n",
    "df_loan.loc[:,continuous].head()"
   ]
  },
  {
   "cell_type": "code",
   "execution_count": 187,
   "metadata": {},
   "outputs": [
    {
     "data": {
      "text/html": [
       "<div>\n",
       "<style scoped>\n",
       "    .dataframe tbody tr th:only-of-type {\n",
       "        vertical-align: middle;\n",
       "    }\n",
       "\n",
       "    .dataframe tbody tr th {\n",
       "        vertical-align: top;\n",
       "    }\n",
       "\n",
       "    .dataframe thead th {\n",
       "        text-align: right;\n",
       "    }\n",
       "</style>\n",
       "<table border=\"1\" class=\"dataframe\">\n",
       "  <thead>\n",
       "    <tr style=\"text-align: right;\">\n",
       "      <th></th>\n",
       "      <th>defaulted_loan_int</th>\n",
       "      <th>grade</th>\n",
       "    </tr>\n",
       "  </thead>\n",
       "  <tbody>\n",
       "    <tr>\n",
       "      <th>0</th>\n",
       "      <td>0</td>\n",
       "      <td>B</td>\n",
       "    </tr>\n",
       "    <tr>\n",
       "      <th>2</th>\n",
       "      <td>0</td>\n",
       "      <td>C</td>\n",
       "    </tr>\n",
       "    <tr>\n",
       "      <th>3</th>\n",
       "      <td>0</td>\n",
       "      <td>C</td>\n",
       "    </tr>\n",
       "    <tr>\n",
       "      <th>5</th>\n",
       "      <td>0</td>\n",
       "      <td>A</td>\n",
       "    </tr>\n",
       "    <tr>\n",
       "      <th>7</th>\n",
       "      <td>0</td>\n",
       "      <td>E</td>\n",
       "    </tr>\n",
       "  </tbody>\n",
       "</table>\n",
       "</div>"
      ],
      "text/plain": [
       "  defaulted_loan_int grade\n",
       "0                  0     B\n",
       "2                  0     C\n",
       "3                  0     C\n",
       "5                  0     A\n",
       "7                  0     E"
      ]
     },
     "execution_count": 187,
     "metadata": {},
     "output_type": "execute_result"
    }
   ],
   "source": [
    "df_loan.loc[:,df_loan.columns.difference(continuous)].head()"
   ]
  },
  {
   "cell_type": "code",
   "execution_count": 188,
   "metadata": {},
   "outputs": [
    {
     "data": {
      "text/plain": [
       "False"
      ]
     },
     "execution_count": 188,
     "metadata": {},
     "output_type": "execute_result"
    }
   ],
   "source": [
    "# check fr missing values in the dataframe one more time\n",
    "df_loan.isnull().any().any()"
   ]
  },
  {
   "cell_type": "code",
   "execution_count": 189,
   "metadata": {},
   "outputs": [
    {
     "name": "stdout",
     "output_type": "stream",
     "text": [
      "Train set ratio \n",
      " 0    0.814724\n",
      "1    0.185276\n",
      "Name: defaulted_loan_int, dtype: float64\n",
      "Test set ratio \n",
      " 0    0.814724\n",
      "1    0.185276\n",
      "Name: defaulted_loan_int, dtype: float64\n"
     ]
    }
   ],
   "source": [
    "# deploy stratified train/test split to make sure we have a similar proportion\n",
    "# of defaulted loans in both train/test sets\n",
    "from sklearn.model_selection import train_test_split\n",
    "\n",
    "train,test = train_test_split(df_loan,test_size=0.25,stratify = df_loan['defaulted_loan_int'])\n",
    "\n",
    "print('Train set ratio \\n', train[\"defaulted_loan_int\"].value_counts()/len(train))\n",
    "print('Test set ratio \\n', test[\"defaulted_loan_int\"].value_counts()/len(test))"
   ]
  },
  {
   "cell_type": "code",
   "execution_count": 190,
   "metadata": {},
   "outputs": [],
   "source": [
    "x_train = train.drop('defaulted_loan_int',axis=1)\n",
    "y_train = train['defaulted_loan_int']\n",
    "\n",
    "x_test = test.drop('defaulted_loan_int',axis=1)\n",
    "y_test = test['defaulted_loan_int']"
   ]
  },
  {
   "cell_type": "code",
   "execution_count": 191,
   "metadata": {},
   "outputs": [
    {
     "name": "stdout",
     "output_type": "stream",
     "text": [
      "(64914, 8) (64914,) (21638, 8) (21638,)\n"
     ]
    }
   ],
   "source": [
    "# check dimensions\n",
    "print(x_train.shape,y_train.shape,x_test.shape,y_test.shape)"
   ]
  },
  {
   "cell_type": "code",
   "execution_count": 192,
   "metadata": {},
   "outputs": [],
   "source": [
    "# now, we standardize our continuous variables"
   ]
  },
  {
   "cell_type": "code",
   "execution_count": 193,
   "metadata": {},
   "outputs": [],
   "source": [
    "from sklearn.preprocessing import StandardScaler"
   ]
  },
  {
   "cell_type": "code",
   "execution_count": 194,
   "metadata": {},
   "outputs": [],
   "source": [
    "scaler = StandardScaler()"
   ]
  },
  {
   "cell_type": "code",
   "execution_count": 195,
   "metadata": {},
   "outputs": [
    {
     "data": {
      "text/plain": [
       "(Index(['loan_amnt', 'funded_amnt', 'int_rate', 'annual_inc', 'dti',\n",
       "        'revol_bal', 'total_pymnt'],\n",
       "       dtype='object'),\n",
       " Index(['loan_amnt', 'funded_amnt', 'int_rate', 'annual_inc', 'dti',\n",
       "        'revol_bal', 'total_pymnt'],\n",
       "       dtype='object'))"
      ]
     },
     "execution_count": 195,
     "metadata": {},
     "output_type": "execute_result"
    }
   ],
   "source": [
    "x_train.loc[:,continuous].columns,x_test.loc[:,continuous].columns"
   ]
  },
  {
   "cell_type": "code",
   "execution_count": 196,
   "metadata": {},
   "outputs": [
    {
     "data": {
      "text/plain": [
       "StandardScaler(copy=True, with_mean=True, with_std=True)"
      ]
     },
     "execution_count": 196,
     "metadata": {},
     "output_type": "execute_result"
    }
   ],
   "source": [
    "scaler.fit(x_train.loc[:,continuous])"
   ]
  },
  {
   "cell_type": "code",
   "execution_count": 197,
   "metadata": {},
   "outputs": [],
   "source": [
    "x_train.loc[:,continuous] = scaler.fit_transform(x_train.loc[:,continuous])"
   ]
  },
  {
   "cell_type": "code",
   "execution_count": 198,
   "metadata": {},
   "outputs": [],
   "source": [
    "# we make sure to standardize test set columns with mean and std of cols from the training test (to prevent information bleed)\n",
    "x_test.loc[:,continuous] = scaler.fit_transform(x_test.loc[:,continuous])"
   ]
  },
  {
   "cell_type": "code",
   "execution_count": 199,
   "metadata": {},
   "outputs": [
    {
     "data": {
      "text/html": [
       "<div>\n",
       "<style scoped>\n",
       "    .dataframe tbody tr th:only-of-type {\n",
       "        vertical-align: middle;\n",
       "    }\n",
       "\n",
       "    .dataframe tbody tr th {\n",
       "        vertical-align: top;\n",
       "    }\n",
       "\n",
       "    .dataframe thead th {\n",
       "        text-align: right;\n",
       "    }\n",
       "</style>\n",
       "<table border=\"1\" class=\"dataframe\">\n",
       "  <thead>\n",
       "    <tr style=\"text-align: right;\">\n",
       "      <th></th>\n",
       "      <th>loan_amnt</th>\n",
       "      <th>funded_amnt</th>\n",
       "      <th>int_rate</th>\n",
       "      <th>grade</th>\n",
       "      <th>annual_inc</th>\n",
       "      <th>dti</th>\n",
       "      <th>revol_bal</th>\n",
       "      <th>total_pymnt</th>\n",
       "    </tr>\n",
       "  </thead>\n",
       "  <tbody>\n",
       "    <tr>\n",
       "      <th>189530</th>\n",
       "      <td>1.263210</td>\n",
       "      <td>1.272645</td>\n",
       "      <td>-0.022051</td>\n",
       "      <td>B</td>\n",
       "      <td>0.613535</td>\n",
       "      <td>0.499052</td>\n",
       "      <td>-0.334167</td>\n",
       "      <td>1.419397</td>\n",
       "    </tr>\n",
       "    <tr>\n",
       "      <th>1561</th>\n",
       "      <td>1.263210</td>\n",
       "      <td>1.272645</td>\n",
       "      <td>1.247727</td>\n",
       "      <td>D</td>\n",
       "      <td>-0.002511</td>\n",
       "      <td>0.374904</td>\n",
       "      <td>0.517296</td>\n",
       "      <td>1.614203</td>\n",
       "    </tr>\n",
       "    <tr>\n",
       "      <th>33501</th>\n",
       "      <td>-0.166164</td>\n",
       "      <td>-0.159990</td>\n",
       "      <td>-1.218101</td>\n",
       "      <td>A</td>\n",
       "      <td>22.493096</td>\n",
       "      <td>-1.933182</td>\n",
       "      <td>-0.356696</td>\n",
       "      <td>-0.154172</td>\n",
       "    </tr>\n",
       "    <tr>\n",
       "      <th>176641</th>\n",
       "      <td>-0.108989</td>\n",
       "      <td>-0.102685</td>\n",
       "      <td>-0.022051</td>\n",
       "      <td>B</td>\n",
       "      <td>-0.161490</td>\n",
       "      <td>-1.257710</td>\n",
       "      <td>-0.408795</td>\n",
       "      <td>-0.078320</td>\n",
       "    </tr>\n",
       "    <tr>\n",
       "      <th>172879</th>\n",
       "      <td>-1.166726</td>\n",
       "      <td>-1.162835</td>\n",
       "      <td>3.025416</td>\n",
       "      <td>F</td>\n",
       "      <td>-1.055750</td>\n",
       "      <td>1.153166</td>\n",
       "      <td>-0.652618</td>\n",
       "      <td>-1.425540</td>\n",
       "    </tr>\n",
       "  </tbody>\n",
       "</table>\n",
       "</div>"
      ],
      "text/plain": [
       "        loan_amnt  funded_amnt  int_rate grade  annual_inc       dti  \\\n",
       "189530   1.263210     1.272645 -0.022051     B    0.613535  0.499052   \n",
       "1561     1.263210     1.272645  1.247727     D   -0.002511  0.374904   \n",
       "33501   -0.166164    -0.159990 -1.218101     A   22.493096 -1.933182   \n",
       "176641  -0.108989    -0.102685 -0.022051     B   -0.161490 -1.257710   \n",
       "172879  -1.166726    -1.162835  3.025416     F   -1.055750  1.153166   \n",
       "\n",
       "        revol_bal  total_pymnt  \n",
       "189530  -0.334167     1.419397  \n",
       "1561     0.517296     1.614203  \n",
       "33501   -0.356696    -0.154172  \n",
       "176641  -0.408795    -0.078320  \n",
       "172879  -0.652618    -1.425540  "
      ]
     },
     "execution_count": 199,
     "metadata": {},
     "output_type": "execute_result"
    }
   ],
   "source": [
    "x_test.head()"
   ]
  },
  {
   "cell_type": "code",
   "execution_count": 200,
   "metadata": {},
   "outputs": [
    {
     "name": "stdout",
     "output_type": "stream",
     "text": [
      "(64914, 8) (64914,) (21638, 8) (21638,)\n"
     ]
    }
   ],
   "source": [
    "# one-hot encoding of categorical variables\n",
    "# we need to concatenate and then split x_train,x_test again (to ensure same categories)\n",
    "print(x_train.shape,y_train.shape,x_test.shape,y_test.shape)"
   ]
  },
  {
   "cell_type": "code",
   "execution_count": 201,
   "metadata": {},
   "outputs": [],
   "source": [
    "data = pd.concat((x_train,x_test))"
   ]
  },
  {
   "cell_type": "code",
   "execution_count": 202,
   "metadata": {},
   "outputs": [
    {
     "data": {
      "text/plain": [
       "(86552, 8)"
      ]
     },
     "execution_count": 202,
     "metadata": {},
     "output_type": "execute_result"
    }
   ],
   "source": [
    "data.shape"
   ]
  },
  {
   "cell_type": "code",
   "execution_count": 203,
   "metadata": {},
   "outputs": [],
   "source": [
    "data_one_hot = pd.get_dummies(data)"
   ]
  },
  {
   "cell_type": "code",
   "execution_count": 204,
   "metadata": {},
   "outputs": [],
   "source": [
    "x_train = data_one_hot.iloc[:x_train.shape[0],:]\n",
    "x_test = data_one_hot.iloc[x_train.shape[0]:,:]"
   ]
  },
  {
   "cell_type": "code",
   "execution_count": 205,
   "metadata": {},
   "outputs": [
    {
     "name": "stdout",
     "output_type": "stream",
     "text": [
      "(64914, 14) (64914,) (21638, 14) (21638,)\n"
     ]
    }
   ],
   "source": [
    "print(x_train.shape,y_train.shape,x_test.shape,y_test.shape)"
   ]
  },
  {
   "cell_type": "code",
   "execution_count": 206,
   "metadata": {},
   "outputs": [
    {
     "data": {
      "text/plain": [
       "set()"
      ]
     },
     "execution_count": 206,
     "metadata": {},
     "output_type": "execute_result"
    }
   ],
   "source": [
    "# difference in columns train/test sets\n",
    "set(x_train.columns)^set(x_test.columns)"
   ]
  },
  {
   "cell_type": "code",
   "execution_count": 207,
   "metadata": {},
   "outputs": [
    {
     "data": {
      "text/html": [
       "<div>\n",
       "<style scoped>\n",
       "    .dataframe tbody tr th:only-of-type {\n",
       "        vertical-align: middle;\n",
       "    }\n",
       "\n",
       "    .dataframe tbody tr th {\n",
       "        vertical-align: top;\n",
       "    }\n",
       "\n",
       "    .dataframe thead th {\n",
       "        text-align: right;\n",
       "    }\n",
       "</style>\n",
       "<table border=\"1\" class=\"dataframe\">\n",
       "  <thead>\n",
       "    <tr style=\"text-align: right;\">\n",
       "      <th></th>\n",
       "      <th>loan_amnt</th>\n",
       "      <th>funded_amnt</th>\n",
       "      <th>int_rate</th>\n",
       "      <th>annual_inc</th>\n",
       "      <th>dti</th>\n",
       "      <th>revol_bal</th>\n",
       "      <th>total_pymnt</th>\n",
       "      <th>grade_A</th>\n",
       "      <th>grade_B</th>\n",
       "      <th>grade_C</th>\n",
       "      <th>grade_D</th>\n",
       "      <th>grade_E</th>\n",
       "      <th>grade_F</th>\n",
       "      <th>grade_G</th>\n",
       "    </tr>\n",
       "  </thead>\n",
       "  <tbody>\n",
       "    <tr>\n",
       "      <th>208277</th>\n",
       "      <td>2.677120</td>\n",
       "      <td>2.692603</td>\n",
       "      <td>1.864073</td>\n",
       "      <td>0.614657</td>\n",
       "      <td>-0.074937</td>\n",
       "      <td>0.397483</td>\n",
       "      <td>3.276712</td>\n",
       "      <td>0</td>\n",
       "      <td>0</td>\n",
       "      <td>0</td>\n",
       "      <td>1</td>\n",
       "      <td>0</td>\n",
       "      <td>0</td>\n",
       "      <td>0</td>\n",
       "    </tr>\n",
       "    <tr>\n",
       "      <th>218586</th>\n",
       "      <td>-0.738713</td>\n",
       "      <td>-0.734244</td>\n",
       "      <td>-0.398633</td>\n",
       "      <td>0.262158</td>\n",
       "      <td>-1.467742</td>\n",
       "      <td>-0.106683</td>\n",
       "      <td>-0.618947</td>\n",
       "      <td>0</td>\n",
       "      <td>1</td>\n",
       "      <td>0</td>\n",
       "      <td>0</td>\n",
       "      <td>0</td>\n",
       "      <td>0</td>\n",
       "      <td>0</td>\n",
       "    </tr>\n",
       "    <tr>\n",
       "      <th>11218</th>\n",
       "      <td>-0.027081</td>\n",
       "      <td>-0.020317</td>\n",
       "      <td>-0.330561</td>\n",
       "      <td>0.350283</td>\n",
       "      <td>-0.316817</td>\n",
       "      <td>-0.144578</td>\n",
       "      <td>0.088954</td>\n",
       "      <td>0</td>\n",
       "      <td>1</td>\n",
       "      <td>0</td>\n",
       "      <td>0</td>\n",
       "      <td>0</td>\n",
       "      <td>0</td>\n",
       "      <td>0</td>\n",
       "    </tr>\n",
       "    <tr>\n",
       "      <th>39751</th>\n",
       "      <td>-0.774294</td>\n",
       "      <td>-0.769940</td>\n",
       "      <td>-1.299904</td>\n",
       "      <td>0.834968</td>\n",
       "      <td>-2.002005</td>\n",
       "      <td>-0.592156</td>\n",
       "      <td>-0.692676</td>\n",
       "      <td>1</td>\n",
       "      <td>0</td>\n",
       "      <td>0</td>\n",
       "      <td>0</td>\n",
       "      <td>0</td>\n",
       "      <td>0</td>\n",
       "      <td>0</td>\n",
       "    </tr>\n",
       "    <tr>\n",
       "      <th>219375</th>\n",
       "      <td>0.684551</td>\n",
       "      <td>0.693609</td>\n",
       "      <td>-0.665475</td>\n",
       "      <td>-0.384089</td>\n",
       "      <td>0.190866</td>\n",
       "      <td>0.264545</td>\n",
       "      <td>0.710590</td>\n",
       "      <td>0</td>\n",
       "      <td>1</td>\n",
       "      <td>0</td>\n",
       "      <td>0</td>\n",
       "      <td>0</td>\n",
       "      <td>0</td>\n",
       "      <td>0</td>\n",
       "    </tr>\n",
       "  </tbody>\n",
       "</table>\n",
       "</div>"
      ],
      "text/plain": [
       "        loan_amnt  funded_amnt  int_rate  annual_inc       dti  revol_bal  \\\n",
       "208277   2.677120     2.692603  1.864073    0.614657 -0.074937   0.397483   \n",
       "218586  -0.738713    -0.734244 -0.398633    0.262158 -1.467742  -0.106683   \n",
       "11218   -0.027081    -0.020317 -0.330561    0.350283 -0.316817  -0.144578   \n",
       "39751   -0.774294    -0.769940 -1.299904    0.834968 -2.002005  -0.592156   \n",
       "219375   0.684551     0.693609 -0.665475   -0.384089  0.190866   0.264545   \n",
       "\n",
       "        total_pymnt  grade_A  grade_B  grade_C  grade_D  grade_E  grade_F  \\\n",
       "208277     3.276712        0        0        0        1        0        0   \n",
       "218586    -0.618947        0        1        0        0        0        0   \n",
       "11218      0.088954        0        1        0        0        0        0   \n",
       "39751     -0.692676        1        0        0        0        0        0   \n",
       "219375     0.710590        0        1        0        0        0        0   \n",
       "\n",
       "        grade_G  \n",
       "208277        0  \n",
       "218586        0  \n",
       "11218         0  \n",
       "39751         0  \n",
       "219375        0  "
      ]
     },
     "execution_count": 207,
     "metadata": {},
     "output_type": "execute_result"
    }
   ],
   "source": [
    "x_train.head()"
   ]
  },
  {
   "cell_type": "code",
   "execution_count": 208,
   "metadata": {},
   "outputs": [],
   "source": [
    "# save pre-processed data\n",
    "x_train.to_csv('lending-club-loan-data/x_train_preprocessed.csv')\n",
    "y_train.to_csv('lending-club-loan-data/y_train_preprocessed.csv')\n",
    "x_test.to_csv('lending-club-loan-data/x_test_preprocessed.csv')\n",
    "y_test.to_csv('lending-club-loan-data/x_test_preprocessed.csv')"
   ]
  },
  {
   "cell_type": "markdown",
   "metadata": {},
   "source": [
    "## now, we have the dataset ready for modeling"
   ]
  },
  {
   "cell_type": "code",
   "execution_count": 209,
   "metadata": {},
   "outputs": [],
   "source": [
    "from sklearn.linear_model import LogisticRegression\n",
    "from sklearn.linear_model import LogisticRegressionCV\n",
    "from sklearn.metrics import accuracy_score"
   ]
  },
  {
   "cell_type": "code",
   "execution_count": 161,
   "metadata": {},
   "outputs": [],
   "source": [
    "# try baseline logistic regression without sample weighting or cross-validation of parameters"
   ]
  },
  {
   "cell_type": "code",
   "execution_count": 183,
   "metadata": {},
   "outputs": [
    {
     "name": "stdout",
     "output_type": "stream",
     "text": [
      "train score: 0.9042271312813877 test score: 0.9040576763101951 with year as a feature.\n"
     ]
    }
   ],
   "source": [
    "## DO NOT RUN THIS CELL (will not work as I threw out year from previous cells for reasons stated above)\n",
    "run_this = False\n",
    "    if run_this:\n",
    "    logreg = LogisticRegression(C=100000, fit_intercept=False,solver='lbfgs')\n",
    "    logreg.fit(x_train, y_train)\n",
    "\n",
    "    # output \n",
    "    y_train_pred = logreg.predict(x_train)\n",
    "    y_test_pred = logreg.predict(x_test)\n",
    "\n",
    "    train_score_logreg = accuracy_score(y_train, y_train_pred)\n",
    "    test_score_logreg = accuracy_score(y_test, y_test_pred)\n",
    "\n",
    "    print(\"train score:\", train_score_logreg, \"test score:\", test_score_logreg, 'with year as a feature.')"
   ]
  },
  {
   "cell_type": "code",
   "execution_count": 304,
   "metadata": {},
   "outputs": [
    {
     "name": "stdout",
     "output_type": "stream",
     "text": [
      "train score: 0.9101888652678929 test score: 0.9136241796838894 without year as a feature.\n"
     ]
    }
   ],
   "source": [
    "logreg = LogisticRegression(C=100000, fit_intercept=False,solver='lbfgs')\n",
    "logreg.fit(x_train, y_train)\n",
    " \n",
    "# output \n",
    "y_train_pred = logreg.predict(x_train)\n",
    "y_test_pred = logreg.predict(x_test)\n",
    "\n",
    "train_score_logreg = accuracy_score(y_train, y_train_pred)\n",
    "test_score_logreg = accuracy_score(y_test, y_test_pred)\n",
    "\n",
    "print(\"train score:\", train_score_logreg, \"test score:\", test_score_logreg, 'without year as a feature.')"
   ]
  },
  {
   "cell_type": "markdown",
   "metadata": {},
   "source": [
    "This is a pretty decent accuracy of this out-of-the box model. This means that 91% of all applicants were correctly classified in default/will not default buckets. **But be careful!** We have a highly imbalanced dataset, thus accuracy alone does not speak enough about the \"quality\" of our model.\n",
    "\n",
    "Also, we actually improved without including the year as a feature! This is likely due to the imbalance of origination years among train/test sets.\n",
    "\n",
    "Let's look at other characteristics, such as the confusion matrix, to really understand the model."
   ]
  },
  {
   "cell_type": "code",
   "execution_count": 211,
   "metadata": {},
   "outputs": [],
   "source": [
    "import sklearn.metrics as metrics\n",
    "from tqdm import tqdm_notebook as tqdm\n",
    "import itertools"
   ]
  },
  {
   "cell_type": "markdown",
   "metadata": {},
   "source": [
    "## perform bootstrap to see how many and which features are significant at 95% significance level."
   ]
  },
  {
   "cell_type": "code",
   "execution_count": 227,
   "metadata": {},
   "outputs": [
    {
     "data": {
      "application/vnd.jupyter.widget-view+json": {
       "model_id": "c3d8a75d74e74a42898d201049f757aa",
       "version_major": 2,
       "version_minor": 0
      },
      "text/plain": [
       "HBox(children=(IntProgress(value=0, max=200), HTML(value='')))"
      ]
     },
     "metadata": {},
     "output_type": "display_data"
    },
    {
     "name": "stdout",
     "output_type": "stream",
     "text": [
      "\n"
     ]
    }
   ],
   "source": [
    "# bootstrapping code\n",
    "\n",
    "n = 200 # Number of iterations\n",
    "boot_coefs = np.zeros((x_train.shape[1],n)) # Create empty storage array for later use\n",
    "\n",
    "# iteration for each sample\n",
    "for i in tqdm(range(n)):\n",
    "    # Sampling WITH replacement the indices of a resampled dataset \n",
    "    sample_index = np.random.choice(range(y_train.shape[0]), size=y_train.shape[0], replace=True)\n",
    "\n",
    "    # finding subset\n",
    "    x_train_samples = x_train.values[sample_index]\n",
    "    y_train_samples = y_train.values[sample_index]\n",
    "    \n",
    "    # finding logreg coefficient\n",
    "    logistic_mod_boot = LogisticRegression(C=100000, fit_intercept=True,solver='lbfgs',max_iter=300) \n",
    "    logistic_mod_boot.fit(x_train_samples, y_train_samples) \n",
    "    boot_coefs[:,i] = logistic_mod_boot.coef_"
   ]
  },
  {
   "cell_type": "code",
   "execution_count": 230,
   "metadata": {},
   "outputs": [
    {
     "name": "stdout",
     "output_type": "stream",
     "text": [
      "Significant coefficents at 5pct level = 12 / 14\n",
      "Number of significant columns:  12\n"
     ]
    }
   ],
   "source": [
    "ci_upper = np.percentile(boot_coefs, 97.5, axis=1)\n",
    "ci_lower = np.percentile(boot_coefs, 2.5, axis=1)\n",
    "\n",
    "# ct significant predictors\n",
    "sig_b_ct = 0\n",
    "sig_preds = []\n",
    "cols = list(x_train.columns)\n",
    "\n",
    "# if ci contains 0, then insignificant\n",
    "for i in range(len(ci_upper)):\n",
    "    if ci_upper[i]<=0 or ci_lower[i]>=0:\n",
    "            sig_b_ct += 1\n",
    "            sig_preds.append(cols[i])\n",
    "\n",
    "print(\"Significant coefficents at 5pct level = %i / %i\" % (sig_b_ct, len(ci_upper)))\n",
    "print('Number of significant columns: ', len(sig_preds))"
   ]
  },
  {
   "cell_type": "code",
   "execution_count": 231,
   "metadata": {},
   "outputs": [
    {
     "data": {
      "text/plain": [
       "{'int_rate', 'loan_amnt'}"
      ]
     },
     "execution_count": 231,
     "metadata": {},
     "output_type": "execute_result"
    }
   ],
   "source": [
    "set(sig_preds)^set(x_train.columns)"
   ]
  },
  {
   "cell_type": "markdown",
   "metadata": {},
   "source": [
    "We confirmed that all except interest rates and loan amounts are significant features at 95% significance level for predicting default rates, which is interesting finding! It makes sense as the interest rate and loan amount are things the bank official creates after evaluating the loan applicant.\n",
    "\n"
   ]
  },
  {
   "cell_type": "code",
   "execution_count": 308,
   "metadata": {},
   "outputs": [],
   "source": [
    "def plot_confusion_matrix(cm, classes,\n",
    "                          normalize=False,\n",
    "                          title='Confusion matrix',\n",
    "                          cmap=plt.cm.Blues):\n",
    "    \"\"\"\n",
    "    This function prints and plots the confusion matrix.\n",
    "    Normalization can be applied by setting `normalize=True`.\n",
    "    \"\"\"\n",
    "    if normalize:\n",
    "        cm = cm.astype('float') / cm.sum(axis=1)[:, np.newaxis]\n",
    "        print(\"Normalized confusion matrix\")\n",
    "    else:\n",
    "        print('Confusion matrix, without normalization')\n",
    "\n",
    "    print(cm)\n",
    "\n",
    "    plt.imshow(cm, interpolation='nearest', cmap=cmap)\n",
    "    plt.title(title)\n",
    "    plt.colorbar()\n",
    "    tick_marks = np.arange(len(classes))\n",
    "    plt.xticks(tick_marks, classes, rotation=0) #45\n",
    "    plt.yticks(tick_marks, classes, rotation=90) #0\n",
    "\n",
    "    fmt = '.2f' if normalize else 'd'\n",
    "    thresh = cm.max() / 2.\n",
    "    for i, j in itertools.product(range(cm.shape[0]), range(cm.shape[1])):\n",
    "        plt.text(j, i, format(cm[i, j], fmt),\n",
    "                 horizontalalignment=\"center\",\n",
    "                 color=\"white\" if cm[i, j] > thresh else \"black\")\n",
    "\n",
    "    plt.tight_layout()\n",
    "    plt.ylabel('True label')\n",
    "    plt.xlabel('Predicted label')"
   ]
  },
  {
   "cell_type": "code",
   "execution_count": 309,
   "metadata": {},
   "outputs": [
    {
     "name": "stdout",
     "output_type": "stream",
     "text": [
      "Confusion matrix, without normalization\n",
      "[[11371  6258]\n",
      " [  463  3546]]\n"
     ]
    },
    {
     "data": {
      "image/png": "[encoded data removed]",
      "text/plain": [
       "<Figure size 432x288 with 2 Axes>"
      ]
     },
     "metadata": {},
     "output_type": "display_data"
    }
   ],
   "source": [
    "plot_confusion_matrix(metrics.confusion_matrix(y_test, y_test_pred),classes=['0','1']);"
   ]
  },
  {
   "cell_type": "code",
   "execution_count": 235,
   "metadata": {},
   "outputs": [
    {
     "name": "stdout",
     "output_type": "stream",
     "text": [
      "The true positive rate for the logistic regression: 0.5781990521327014\n",
      "\n",
      "The true negative rate for the logistic regression: 0.9899030007374213\n",
      "\n",
      "The false positive rate for the logistic regression: 0.010096999262578706\n",
      "\n",
      "The false negative rate for the logistic regression: 0.4218009478672986\n"
     ]
    }
   ],
   "source": [
    "tn_logreg, fp_logreg, fn_logreg, tp_logreg = metrics.confusion_matrix(y_test, y_test_pred).astype('float').ravel()\n",
    "\n",
    "print(\"The true positive rate for the logistic regression:\",tp_logreg/(tp_logreg + fn_logreg))\n",
    "print(\"\")\n",
    "print(\"The true negative rate for the logistic regression:\",tn_logreg/(tn_logreg + fp_logreg))\n",
    "print(\"\")\n",
    "print(\"The false positive rate for the logistic regression:\",fp_logreg/(fp_logreg + tn_logreg))\n",
    "print(\"\")\n",
    "print(\"The false negative rate for the logistic regression:\",fn_logreg/(tp_logreg + fn_logreg))"
   ]
  },
  {
   "cell_type": "code",
   "execution_count": 305,
   "metadata": {},
   "outputs": [
    {
     "data": {
      "image/png": "[encoded data removed]",
      "text/plain": [
       "<Figure size 864x288 with 1 Axes>"
      ]
     },
     "metadata": {},
     "output_type": "display_data"
    }
   ],
   "source": [
    "fprs_logreg, tprs_logreg, thresh_logreg = metrics.roc_curve(y_test, clf.predict_proba(x_test)[:,1])\n",
    "fprs_zeros, tprs_zeros, thresh_zeros = metrics.roc_curve(y_test, y_all_normal)\n",
    "\n",
    "# Plot the ROC curves\n",
    "fig1, ax1 = plt.subplots(1, 1)\n",
    "fig1.set_figwidth(12)\n",
    "\n",
    "ax1.set_title(\"ROC Curve - Logistic Regression\")\n",
    "ax1.plot(fprs_logreg, tprs_logreg, color='blue')\n",
    "ax1.plot([0,1],[0,1], \"--\", color='grey')\n",
    "ax1.set( aspect='equal')\n",
    "ax1.grid(True)\n",
    "ax1.set_xlim(-0.01,1.01), ax1.set_ylim(-0.01,1.01)\n",
    "ax1.set_xlabel(\"False positive rate\"), ax1.set_ylabel(\"True positive rate\");"
   ]
  },
  {
   "cell_type": "markdown",
   "metadata": {},
   "source": [
    "Evaluation: \n",
    "\n",
    "our model is really **specific, i.e., has high recall** (HIGH specificity)- this means that the model is great in  classifying correctly people who will actually **not** default in 99% of the test cases.\n",
    "\n",
    "However, our model is **not sensitive i.e., not precise** in identifying true positives (LOW sensitivity), i.e. it predicts a large amount of loans to NOT default even if they actually **defaulted**. \n",
    "\n",
    "This is very problematic. Obviously, bank officials would like to have \"safe\" predictions - meaning we do not want to lose money on giving loans to people who would default- this model is **BAD** as the false negative rate (i.e., 42% of will-default loans are predicted as will NOT default). \n",
    "\n",
    "Now, we will try to improve it by cross-validating the regularization and sample weighting."
   ]
  },
  {
   "cell_type": "code",
   "execution_count": 306,
   "metadata": {},
   "outputs": [
    {
     "name": "stdout",
     "output_type": "stream",
     "text": [
      "train score: 0.6750777952367748 test score: 0.6893890378038636 without year as a feature.\n"
     ]
    }
   ],
   "source": [
    "weight_not_default = 1\n",
    "weight_default = 12\n",
    "logreg = LogisticRegressionCV(Cs=[10,100,100,10000,100000], fit_intercept=True,solver='lbfgs',\\\n",
    "                              max_iter = 200,cv=5,class_weight = {0: weight_not_default, 1: weight_default})\n",
    "logreg.fit(x_train, y_train)\n",
    " \n",
    "# output \n",
    "y_train_pred = logreg.predict(x_train)\n",
    "y_test_pred = logreg.predict(x_test)\n",
    "\n",
    "train_score_logreg = accuracy_score(y_train, y_train_pred)\n",
    "test_score_logreg = accuracy_score(y_test, y_test_pred)\n",
    "\n",
    "print(\"train score:\", train_score_logreg, \"test score:\", test_score_logreg, 'without year as a feature.')"
   ]
  },
  {
   "cell_type": "code",
   "execution_count": 310,
   "metadata": {},
   "outputs": [
    {
     "name": "stdout",
     "output_type": "stream",
     "text": [
      "Confusion matrix, without normalization\n",
      "[[11371  6258]\n",
      " [  463  3546]]\n"
     ]
    },
    {
     "data": {
      "image/png": "[encoded data removed]",
      "text/plain": [
       "<Figure size 432x288 with 2 Axes>"
      ]
     },
     "metadata": {},
     "output_type": "display_data"
    }
   ],
   "source": [
    "plot_confusion_matrix(metrics.confusion_matrix(y_test, y_test_pred),classes=['0','1']);"
   ]
  },
  {
   "cell_type": "code",
   "execution_count": 311,
   "metadata": {},
   "outputs": [
    {
     "name": "stdout",
     "output_type": "stream",
     "text": [
      "The true positive rate for the logistic regression: 0.8845098528311299\n",
      "\n",
      "The true negative rate for the logistic regression: 0.6450167337909127\n",
      "\n",
      "The false positive rate for the logistic regression: 0.3549832662090873\n",
      "\n",
      "The false negative rate for the logistic regression: 0.11549014716887004\n"
     ]
    }
   ],
   "source": [
    "tn_logreg, fp_logreg, fn_logreg, tp_logreg = metrics.confusion_matrix(y_test, y_test_pred).astype('float').ravel()\n",
    "\n",
    "print(\"The true positive rate for the logistic regression:\",tp_logreg/(tp_logreg + fn_logreg))\n",
    "print(\"\")\n",
    "print(\"The true negative rate for the logistic regression:\",tn_logreg/(tn_logreg + fp_logreg))\n",
    "print(\"\")\n",
    "print(\"The false positive rate for the logistic regression:\",fp_logreg/(fp_logreg + tn_logreg))\n",
    "print(\"\")\n",
    "print(\"The false negative rate for the logistic regression:\",fn_logreg/(tp_logreg + fn_logreg))"
   ]
  },
  {
   "cell_type": "code",
   "execution_count": 315,
   "metadata": {},
   "outputs": [
    {
     "name": "stdout",
     "output_type": "stream",
     "text": [
      "Using logistic regression:\n",
      "At FPR=0.0, TPR~0.371, Threshold~0.95488\n",
      "At FPR=0.1, TPR~0.731, Threshold~0.17576\n",
      "At FPR=0.5, TPR~0.915, Threshold~0.06131\n",
      "At FPR=0.9, TPR~0.978, Threshold~0.02604\n",
      "\n",
      "Using all zeroes prediction:\n",
      "At FPR=0.0, TPR~0.000, Threshold~1.00000\n",
      "At FPR=0.1, TPR~0.100, Threshold~0.90000\n",
      "At FPR=0.5, TPR~0.500, Threshold~0.50000\n",
      "At FPR=0.9, TPR~0.900, Threshold~0.10000\n"
     ]
    }
   ],
   "source": [
    "def get_max_tpr(fprs, tprs, thresholds, val):\n",
    "    # First find the closest value index in fprs to val\n",
    "    closest_value = max(i for i,v in enumerate(fprs) if v <= val)\n",
    "    \n",
    "    # Now, use linear interpolation to calculate corresponding tpr, threshold\n",
    "    tpr_out = np.interp(val, \n",
    "                        (fprs[closest_value],fprs[closest_value+1]),\n",
    "                       (tprs[closest_value],tprs[closest_value+1]))\n",
    "    \n",
    "    thresh_out = np.interp(val, \n",
    "                        (fprs[closest_value],fprs[closest_value+1]),\n",
    "                       (thresholds[closest_value],thresholds[closest_value+1]))\n",
    "    \n",
    "    # Now, return the tpr and threshold values at that index\n",
    "    return tpr_out, thresh_out\n",
    "\n",
    "\n",
    "print(\"Using logistic regression:\")\n",
    "for this_fpr in [0, 0.1, 0.5, 0.9]:\n",
    "    this_tpr, this_thresh = get_max_tpr(fprs_logreg, tprs_logreg, thresh_logreg, this_fpr)\n",
    "    print(\"At FPR={:.1f}, TPR~{:.3f}, Threshold~{:.5f}\".format(this_fpr, this_tpr, this_thresh))     \n",
    "print(\"\")\n",
    "print(\"Using all zeroes prediction:\")\n",
    "for this_fpr in [0, 0.1, 0.5, 0.9]:\n",
    "    this_tpr, this_thresh = get_max_tpr(fprs_zeros, tprs_zeros, thresh_zeros, this_fpr)\n",
    "    print(\"At FPR={:.1f}, TPR~{:.3f}, Threshold~{:.5f}\".format(this_fpr, this_tpr, this_thresh)) "
   ]
  },
  {
   "cell_type": "markdown",
   "metadata": {},
   "source": [
    "Evaluation: \n",
    "\n",
    "By introducing class weights, we can **tune the model to the 'strategy'** of the bank officials. Intuitively, we would like to correctly classify as many instances of people who will default. Here, at the expense of recall (i.e, now, we will predict more 'good loans' to default), we can boost the precision of the model significantly (i.e., we now have many more people who will default as predicted that they will default).\n",
    "\n",
    "More quantitatively, looking at the roc curve and pulling out select values, our model is able to be 90% precise (correctly classify people who will default) if we have false positive rate (do not give loan to people who deserve it) at %.\n",
    "\n",
    "It is important to discuss the \"risk factors\" with the business key stakeholders before deploying such model. For instance, it is very important to know what percentage of loans the business stakeholders can afford to give out to people who would likely default - keeping in mind that the better the model is in correctly classifying defaults, it would eat up potential additional revenue on loans for people who would have not defaulted, but are now predicted as defaults via the model.\n",
    "\n"
   ]
  },
  {
   "cell_type": "code",
   "execution_count": null,
   "metadata": {},
   "outputs": [],
   "source": []
  }
 ],
 "metadata": {
  "kernelspec": {
   "display_name": "Python 3",
   "language": "python",
   "name": "python3"
  },
  "language_info": {
   "codemirror_mode": {
    "name": "ipython",
    "version": 3
   },
   "file_extension": ".py",
   "mimetype": "text/x-python",
   "name": "python",
   "nbconvert_exporter": "python",
   "pygments_lexer": "ipython3",
   "version": "3.6.5"
  }
 },
 "nbformat": 4,
 "nbformat_minor": 2
}
